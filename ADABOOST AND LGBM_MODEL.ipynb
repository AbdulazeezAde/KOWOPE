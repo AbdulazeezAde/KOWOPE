{
 "cells": [
  {
   "cell_type": "code",
   "execution_count": 67,
   "metadata": {},
   "outputs": [],
   "source": [
    "#Import necessary dependencies or frameworks or libraries\n",
    "from plotly import graph_objs as go;import copy; import datetime;import gc; gc.collect()\n",
    "import numpy as np;import pandas as pd, os, gc;import seaborn as sns;from tqdm import tqdm; import missingno as msno\n",
    "from sklearn.model_selection import KFold,cross_val_score,GroupKFold,RepeatedKFold,StratifiedKFold,GridSearchCV,cross_validate\n",
    "import plotly.express as px;import math\n",
    "from scipy import stats;import statsmodels.api as sm;from statsmodels.stats import diagnostic as diag\n",
    "from statsmodels.stats.outliers_influence import variance_inflation_factor\n",
    "import time;import warnings;from matplotlib import pyplot as plt\n",
    "%matplotlib inline\n",
    "from sklearn.feature_selection import RFE\n",
    "from sklearn.model_selection import train_test_split; from sklearn.preprocessing import StandardScaler\n",
    "from sklearn.impute import SimpleImputer; import xgboost as xgb\n",
    "import matplotlib.pyplot as plt\n",
    "from sklearn.metrics import roc_curve, auc, log_loss;from sklearn.feature_selection import mutual_info_classif\n",
    "import lightgbm as lgb;from sklearn import metrics; from scipy.optimize import minimize\n",
    "from lightgbm import LGBMClassifier; from catboost import CatBoostClassifier\n",
    "warnings.filterwarnings('ignore')\n",
    "from typing import List\n",
    "import perfplot"
   ]
  },
  {
   "cell_type": "code",
   "execution_count": 68,
   "metadata": {},
   "outputs": [],
   "source": [
    "#Data path & csv files name extension\n",
    "data_path='/Users/DELL/Desktop/Hackhathons/Kowope/Data/'\n",
    "train='Train.csv';test='Test.csv';submission ='SampleSubmission.csv'"
   ]
  },
  {
   "cell_type": "code",
   "execution_count": 69,
   "metadata": {},
   "outputs": [],
   "source": [
    "#define some fxn to read the data set\n",
    "def read_train():\n",
    "    train_data =pd.read_csv(data_path + train)\n",
    "    return train_data\n",
    "def read_test():\n",
    "    test_data =pd.read_csv(data_path + test)\n",
    "    return test_data\n",
    "def read_submission():\n",
    "    sample_submission =pd.read_csv(data_path + submission)\n",
    "    return sample_submission\n",
    "#Assign defined fxns to variables\n",
    "train = read_train();test=read_test();submission=read_submission()"
   ]
  },
  {
   "cell_type": "code",
   "execution_count": 70,
   "metadata": {},
   "outputs": [],
   "source": [
    "test=test.copy()"
   ]
  },
  {
   "cell_type": "code",
   "execution_count": 71,
   "metadata": {},
   "outputs": [],
   "source": [
    "test_id=test['Applicant_ID']"
   ]
  },
  {
   "cell_type": "code",
   "execution_count": 72,
   "metadata": {},
   "outputs": [],
   "source": [
    "train['default_status']= train['default_status'].replace({'yes': 1,'no': 0})"
   ]
  },
  {
   "cell_type": "code",
   "execution_count": 73,
   "metadata": {},
   "outputs": [],
   "source": [
    "train.fillna(-1, inplace=True)\n",
    "test.fillna(-1, inplace=True)"
   ]
  },
  {
   "cell_type": "code",
   "execution_count": 74,
   "metadata": {},
   "outputs": [],
   "source": [
    "#train['loans_behaviour']=train['form_field3'] - (train['form_field4'] +train['form_field5'])"
   ]
  },
  {
   "cell_type": "code",
   "execution_count": 75,
   "metadata": {},
   "outputs": [],
   "source": [
    "train.drop(['Applicant_ID'], axis=1, inplace =True)\n",
    "test.drop(['Applicant_ID'], axis=1, inplace =True)"
   ]
  },
  {
   "cell_type": "code",
   "execution_count": 76,
   "metadata": {},
   "outputs": [],
   "source": [
    "features=['form_field1','form_field2'] #add field12"
   ]
  },
  {
   "cell_type": "code",
   "execution_count": 77,
   "metadata": {},
   "outputs": [],
   "source": [
    "data=pd.concat([train,test],sort=False).reset_index(drop=True)"
   ]
  },
  {
   "cell_type": "code",
   "execution_count": 78,
   "metadata": {},
   "outputs": [
    {
     "data": {
      "text/plain": [
       "60772.0"
      ]
     },
     "execution_count": 78,
     "metadata": {},
     "output_type": "execute_result"
    }
   ],
   "source": [
    "data['form_field28'].max()#- add value_counts to model #23"
   ]
  },
  {
   "cell_type": "code",
   "execution_count": 79,
   "metadata": {},
   "outputs": [],
   "source": [
    "data['Total_severity']=data['form_field3']+data['form_field4']+data['form_field5']\n",
    "data['Total_loans_last2yrs']=data['form_field46']+data['form_field43']+data['form_field45']\n",
    "data['Total _active credits']=data['form_field19']+data['form_field20']# or coconact\n",
    "data['12-11']=data['form_field12']-data['form_field11']\n",
    "data['17-18']=data['form_field17']-data['form_field18']\n",
    "data['48/49']=data['form_field49']+data['form_field48']\n",
    "data['Amount_paid_to_sum_due']=data['form_field13']-data['form_field12']\n",
    "data['32/33']=data['form_field32']-data['form_field33']\n",
    "data['14-13']=data['form_field14']-data['form_field13']\n",
    "data['DX/DYAverage utilization']=data['form_field22']-data['form_field23']\n",
    "data['Debt_to_income']=data['form_field13']/data['form_field14'] #try 12/14\n",
    "data['Debt_to_income']=data['Debt_to_income'].round(2).astype(str) + '%'"
   ]
  },
  {
   "cell_type": "code",
   "execution_count": 80,
   "metadata": {},
   "outputs": [],
   "source": [
    "def worthy_level(x):\n",
    "    if x <= 3484:\n",
    "        return 'less-worthy'\n",
    "    else:\n",
    "        return 'worthy'\n",
    "data['worth_level']= data['form_field1'].map(worthy_level)"
   ]
  },
  {
   "cell_type": "code",
   "execution_count": 81,
   "metadata": {},
   "outputs": [],
   "source": [
    "bins = [0, 100000, 500000, 1000000,100000000, 500000000, 1014471051]\n",
    "labels = ['extremely_low','low', 'medium', 'high','semi_high', 'extreme high']\n",
    "data['Binned income'] = pd.cut(data['form_field14'], bins=bins, labels=labels)"
   ]
  },
  {
   "cell_type": "code",
   "execution_count": 82,
   "metadata": {},
   "outputs": [],
   "source": [
    "def aggregate_features(x,col_name):\n",
    "    x[\"min_\"+col_name]=x[col_name].apply(np.min)\n",
    "    x[\"max_\"+col_name]=x[col_name].apply(np.max)\n",
    "    x[\"mean_\"+col_name]=x[col_name].apply(np.mean)\n",
    "    return x  "
   ]
  },
  {
   "cell_type": "code",
   "execution_count": 83,
   "metadata": {},
   "outputs": [
    {
     "name": "stderr",
     "output_type": "stream",
     "text": [
      "100%|████████████████████████████████████████████████████████████████████████████████████| 2/2 [00:02<00:00,  1.38s/it]\n"
     ]
    }
   ],
   "source": [
    "for col_name in tqdm(features):\n",
    "    data=aggregate_features(data,col_name)"
   ]
  },
  {
   "cell_type": "code",
   "execution_count": 84,
   "metadata": {},
   "outputs": [],
   "source": [
    "bins = [0, 100000, 500000, 1000000,100000000, 500000000, 1014471051]\n",
    "labels = ['extremely_low','low', 'medium', 'high','semi_high', 'extreme high']\n",
    "data['Binned income'] = pd.cut(data['form_field14'], bins=bins, labels=labels)"
   ]
  },
  {
   "cell_type": "code",
   "execution_count": 85,
   "metadata": {},
   "outputs": [],
   "source": [
    "train=data[data.default_status.notnull()].reset_index(drop=True)\n",
    "test=data[data.default_status.isna()].reset_index(drop=True)"
   ]
  },
  {
   "cell_type": "code",
   "execution_count": 86,
   "metadata": {},
   "outputs": [],
   "source": [
    "test=test.drop(['default_status'], axis=1)"
   ]
  },
  {
   "cell_type": "code",
   "execution_count": 87,
   "metadata": {},
   "outputs": [],
   "source": [
    "import category_encoders as ce\n",
    "oce = ce.OneHotEncoder(cols=['form_field47'])\n",
    "hce = ce.TargetEncoder(cols=['Binned income','Debt_to_income','worth_level'],smoothing=40,min_samples_leaf=7)"
   ]
  },
  {
   "cell_type": "code",
   "execution_count": 88,
   "metadata": {},
   "outputs": [],
   "source": [
    "X=train.drop(['default_status'], axis=1)\n",
    "y=train.default_status"
   ]
  },
  {
   "cell_type": "code",
   "execution_count": 89,
   "metadata": {},
   "outputs": [],
   "source": [
    "X = oce.fit_transform(X)\n",
    "X = hce.fit_transform(X,y)\n",
    "test = oce.transform(test)\n",
    "test = hce.transform(test)"
   ]
  },
  {
   "cell_type": "code",
   "execution_count": 90,
   "metadata": {},
   "outputs": [],
   "source": [
    "test=test.drop(['form_field47_2'], axis=1)\n",
    "X=X.drop(['form_field47_2'], axis=1)"
   ]
  },
  {
   "cell_type": "code",
   "execution_count": 91,
   "metadata": {},
   "outputs": [
    {
     "data": {
      "text/plain": [
       "(56000, 69)"
      ]
     },
     "execution_count": 91,
     "metadata": {},
     "output_type": "execute_result"
    }
   ],
   "source": [
    "X.shape"
   ]
  },
  {
   "cell_type": "code",
   "execution_count": 92,
   "metadata": {},
   "outputs": [],
   "source": [
    "X_train, X_val, y_train, y_val = train_test_split(X, y, test_size=0.25, random_state=2001)#2001"
   ]
  },
  {
   "cell_type": "code",
   "execution_count": 93,
   "metadata": {},
   "outputs": [],
   "source": [
    "param = { \n",
    "         'objective':'binary',\n",
    "         'max_depth': 12,\n",
    "         'learning_rate': 0.05, #try 0.07 and restack\n",
    "         \"boosting\": \"gbdt\",\n",
    "         \"feature_fraction\": 0.9,\n",
    "         \"metric\": 'auc',\n",
    "        'seed':1993,\n",
    "    'num_boost_round':1000,\n",
    "    'stratified':True,\n",
    "         \"verbose\": 0}"
   ]
  },
  {
   "cell_type": "code",
   "execution_count": 94,
   "metadata": {},
   "outputs": [
    {
     "name": "stdout",
     "output_type": "stream",
     "text": [
      "Training until validation scores don't improve for 300 rounds\n",
      "[50]\ttraining's auc: 0.853605\tvalid_1's auc: 0.847653\n",
      "[100]\ttraining's auc: 0.871887\tvalid_1's auc: 0.865266\n",
      "[150]\ttraining's auc: 0.885961\tvalid_1's auc: 0.878841\n",
      "[200]\ttraining's auc: 0.897668\tvalid_1's auc: 0.890031\n",
      "[250]\ttraining's auc: 0.908278\tvalid_1's auc: 0.900772\n",
      "[300]\ttraining's auc: 0.917656\tvalid_1's auc: 0.909867\n",
      "[350]\ttraining's auc: 0.926297\tvalid_1's auc: 0.918535\n",
      "[400]\ttraining's auc: 0.933988\tvalid_1's auc: 0.926187\n",
      "[450]\ttraining's auc: 0.940557\tvalid_1's auc: 0.932918\n",
      "[500]\ttraining's auc: 0.946684\tvalid_1's auc: 0.938633\n",
      "[550]\ttraining's auc: 0.952318\tvalid_1's auc: 0.944094\n",
      "[600]\ttraining's auc: 0.958002\tvalid_1's auc: 0.949887\n",
      "[650]\ttraining's auc: 0.962167\tvalid_1's auc: 0.953906\n",
      "[700]\ttraining's auc: 0.966438\tvalid_1's auc: 0.958108\n",
      "[750]\ttraining's auc: 0.970099\tvalid_1's auc: 0.961938\n",
      "[800]\ttraining's auc: 0.973214\tvalid_1's auc: 0.965011\n",
      "[850]\ttraining's auc: 0.976004\tvalid_1's auc: 0.967923\n",
      "[900]\ttraining's auc: 0.978807\tvalid_1's auc: 0.970948\n",
      "[950]\ttraining's auc: 0.98114\tvalid_1's auc: 0.973489\n",
      "[1000]\ttraining's auc: 0.983424\tvalid_1's auc: 0.975854\n",
      "Did not meet early stopping. Best iteration is:\n",
      "[1000]\ttraining's auc: 0.983424\tvalid_1's auc: 0.975854\n",
      "err:  0.8308036099463341\n",
      "Training until validation scores don't improve for 300 rounds\n",
      "[50]\ttraining's auc: 0.85443\tvalid_1's auc: 0.847453\n",
      "[100]\ttraining's auc: 0.872374\tvalid_1's auc: 0.865051\n",
      "[150]\ttraining's auc: 0.886298\tvalid_1's auc: 0.878492\n",
      "[200]\ttraining's auc: 0.897764\tvalid_1's auc: 0.889318\n",
      "[250]\ttraining's auc: 0.90822\tvalid_1's auc: 0.899144\n",
      "[300]\ttraining's auc: 0.917929\tvalid_1's auc: 0.908665\n",
      "[350]\ttraining's auc: 0.926426\tvalid_1's auc: 0.916846\n",
      "[400]\ttraining's auc: 0.933579\tvalid_1's auc: 0.92404\n",
      "[450]\ttraining's auc: 0.941111\tvalid_1's auc: 0.93118\n",
      "[500]\ttraining's auc: 0.947136\tvalid_1's auc: 0.937187\n",
      "[550]\ttraining's auc: 0.952905\tvalid_1's auc: 0.943017\n",
      "[600]\ttraining's auc: 0.958151\tvalid_1's auc: 0.948195\n",
      "[650]\ttraining's auc: 0.962488\tvalid_1's auc: 0.952728\n",
      "[700]\ttraining's auc: 0.966572\tvalid_1's auc: 0.956819\n",
      "[750]\ttraining's auc: 0.969821\tvalid_1's auc: 0.960071\n",
      "[800]\ttraining's auc: 0.973569\tvalid_1's auc: 0.963895\n",
      "[850]\ttraining's auc: 0.976244\tvalid_1's auc: 0.966623\n",
      "[900]\ttraining's auc: 0.978793\tvalid_1's auc: 0.969338\n",
      "[950]\ttraining's auc: 0.981072\tvalid_1's auc: 0.971798\n",
      "[1000]\ttraining's auc: 0.983342\tvalid_1's auc: 0.974343\n",
      "Did not meet early stopping. Best iteration is:\n",
      "[1000]\ttraining's auc: 0.983342\tvalid_1's auc: 0.974343\n",
      "err:  0.8287587789684389\n",
      "Training until validation scores don't improve for 300 rounds\n",
      "[50]\ttraining's auc: 0.853581\tvalid_1's auc: 0.847828\n",
      "[100]\ttraining's auc: 0.871602\tvalid_1's auc: 0.865245\n",
      "[150]\ttraining's auc: 0.885806\tvalid_1's auc: 0.87865\n",
      "[200]\ttraining's auc: 0.897209\tvalid_1's auc: 0.889635\n",
      "[250]\ttraining's auc: 0.907731\tvalid_1's auc: 0.899741\n",
      "[300]\ttraining's auc: 0.91701\tvalid_1's auc: 0.908494\n",
      "[350]\ttraining's auc: 0.925683\tvalid_1's auc: 0.917069\n",
      "[400]\ttraining's auc: 0.933375\tvalid_1's auc: 0.924825\n",
      "[450]\ttraining's auc: 0.940604\tvalid_1's auc: 0.932023\n",
      "[500]\ttraining's auc: 0.946597\tvalid_1's auc: 0.938049\n",
      "[550]\ttraining's auc: 0.95244\tvalid_1's auc: 0.943729\n",
      "[600]\ttraining's auc: 0.957629\tvalid_1's auc: 0.949113\n",
      "[650]\ttraining's auc: 0.962532\tvalid_1's auc: 0.954141\n",
      "[700]\ttraining's auc: 0.966514\tvalid_1's auc: 0.958132\n",
      "[750]\ttraining's auc: 0.970026\tvalid_1's auc: 0.961698\n",
      "[800]\ttraining's auc: 0.973524\tvalid_1's auc: 0.965425\n",
      "[850]\ttraining's auc: 0.976278\tvalid_1's auc: 0.968292\n",
      "[900]\ttraining's auc: 0.978929\tvalid_1's auc: 0.971082\n",
      "[950]\ttraining's auc: 0.981318\tvalid_1's auc: 0.973486\n",
      "[1000]\ttraining's auc: 0.983308\tvalid_1's auc: 0.97561\n",
      "Did not meet early stopping. Best iteration is:\n",
      "[1000]\ttraining's auc: 0.983308\tvalid_1's auc: 0.97561\n",
      "err:  0.8478203999930977\n",
      "Training until validation scores don't improve for 300 rounds\n",
      "[50]\ttraining's auc: 0.853621\tvalid_1's auc: 0.84804\n",
      "[100]\ttraining's auc: 0.871928\tvalid_1's auc: 0.865939\n",
      "[150]\ttraining's auc: 0.885839\tvalid_1's auc: 0.879373\n",
      "[200]\ttraining's auc: 0.897229\tvalid_1's auc: 0.890021\n",
      "[250]\ttraining's auc: 0.908155\tvalid_1's auc: 0.9008\n",
      "[300]\ttraining's auc: 0.91746\tvalid_1's auc: 0.909493\n",
      "[350]\ttraining's auc: 0.926603\tvalid_1's auc: 0.917875\n",
      "[400]\ttraining's auc: 0.933776\tvalid_1's auc: 0.924807\n",
      "[450]\ttraining's auc: 0.940927\tvalid_1's auc: 0.931826\n",
      "[500]\ttraining's auc: 0.946986\tvalid_1's auc: 0.937817\n",
      "[550]\ttraining's auc: 0.952702\tvalid_1's auc: 0.94342\n",
      "[600]\ttraining's auc: 0.957893\tvalid_1's auc: 0.948425\n",
      "[650]\ttraining's auc: 0.962113\tvalid_1's auc: 0.952889\n",
      "[700]\ttraining's auc: 0.966135\tvalid_1's auc: 0.957042\n",
      "[750]\ttraining's auc: 0.969775\tvalid_1's auc: 0.960678\n",
      "[800]\ttraining's auc: 0.973229\tvalid_1's auc: 0.964244\n",
      "[850]\ttraining's auc: 0.97575\tvalid_1's auc: 0.966735\n",
      "[900]\ttraining's auc: 0.978381\tvalid_1's auc: 0.96941\n",
      "[950]\ttraining's auc: 0.980544\tvalid_1's auc: 0.9717\n",
      "[1000]\ttraining's auc: 0.982618\tvalid_1's auc: 0.97376\n",
      "Did not meet early stopping. Best iteration is:\n",
      "[1000]\ttraining's auc: 0.982618\tvalid_1's auc: 0.97376\n",
      "err:  0.8409746164863419\n",
      "Training until validation scores don't improve for 300 rounds\n",
      "[50]\ttraining's auc: 0.854375\tvalid_1's auc: 0.84835\n",
      "[100]\ttraining's auc: 0.872214\tvalid_1's auc: 0.86569\n",
      "[150]\ttraining's auc: 0.885856\tvalid_1's auc: 0.879051\n",
      "[200]\ttraining's auc: 0.897447\tvalid_1's auc: 0.89041\n",
      "[250]\ttraining's auc: 0.908191\tvalid_1's auc: 0.900884\n",
      "[300]\ttraining's auc: 0.918048\tvalid_1's auc: 0.910389\n",
      "[350]\ttraining's auc: 0.926474\tvalid_1's auc: 0.918428\n",
      "[400]\ttraining's auc: 0.933587\tvalid_1's auc: 0.925198\n",
      "[450]\ttraining's auc: 0.94029\tvalid_1's auc: 0.931997\n",
      "[500]\ttraining's auc: 0.946695\tvalid_1's auc: 0.93826\n",
      "[550]\ttraining's auc: 0.952269\tvalid_1's auc: 0.944057\n",
      "[600]\ttraining's auc: 0.957286\tvalid_1's auc: 0.94916\n",
      "[650]\ttraining's auc: 0.961913\tvalid_1's auc: 0.953759\n",
      "[700]\ttraining's auc: 0.966161\tvalid_1's auc: 0.957929\n",
      "[750]\ttraining's auc: 0.969673\tvalid_1's auc: 0.961504\n",
      "[800]\ttraining's auc: 0.97333\tvalid_1's auc: 0.965214\n",
      "[850]\ttraining's auc: 0.976029\tvalid_1's auc: 0.968044\n",
      "[900]\ttraining's auc: 0.978769\tvalid_1's auc: 0.970888\n",
      "[950]\ttraining's auc: 0.980987\tvalid_1's auc: 0.973335\n",
      "[1000]\ttraining's auc: 0.983197\tvalid_1's auc: 0.975653\n",
      "Did not meet early stopping. Best iteration is:\n",
      "[1000]\ttraining's auc: 0.983197\tvalid_1's auc: 0.975653\n",
      "err:  0.835808873013408\n",
      "Training until validation scores don't improve for 300 rounds\n",
      "[50]\ttraining's auc: 0.853981\tvalid_1's auc: 0.847619\n",
      "[100]\ttraining's auc: 0.871848\tvalid_1's auc: 0.864991\n",
      "[150]\ttraining's auc: 0.886106\tvalid_1's auc: 0.878712\n",
      "[200]\ttraining's auc: 0.897843\tvalid_1's auc: 0.889997\n",
      "[250]\ttraining's auc: 0.908189\tvalid_1's auc: 0.90027\n",
      "[300]\ttraining's auc: 0.917693\tvalid_1's auc: 0.909448\n",
      "[350]\ttraining's auc: 0.926129\tvalid_1's auc: 0.917582\n",
      "[400]\ttraining's auc: 0.933716\tvalid_1's auc: 0.924903\n",
      "[450]\ttraining's auc: 0.940677\tvalid_1's auc: 0.931638\n",
      "[500]\ttraining's auc: 0.947041\tvalid_1's auc: 0.937713\n",
      "[550]\ttraining's auc: 0.953006\tvalid_1's auc: 0.943558\n",
      "[600]\ttraining's auc: 0.958115\tvalid_1's auc: 0.948906\n",
      "[650]\ttraining's auc: 0.962497\tvalid_1's auc: 0.953254\n",
      "[700]\ttraining's auc: 0.966671\tvalid_1's auc: 0.957521\n",
      "[750]\ttraining's auc: 0.970297\tvalid_1's auc: 0.961092\n",
      "[800]\ttraining's auc: 0.973839\tvalid_1's auc: 0.964757\n",
      "[850]\ttraining's auc: 0.976813\tvalid_1's auc: 0.967772\n",
      "[900]\ttraining's auc: 0.979459\tvalid_1's auc: 0.970558\n",
      "[950]\ttraining's auc: 0.981617\tvalid_1's auc: 0.972925\n",
      "[1000]\ttraining's auc: 0.983432\tvalid_1's auc: 0.974903\n",
      "Did not meet early stopping. Best iteration is:\n",
      "[1000]\ttraining's auc: 0.983432\tvalid_1's auc: 0.974903\n",
      "err:  0.8364340465203516\n",
      "Training until validation scores don't improve for 300 rounds\n",
      "[50]\ttraining's auc: 0.853848\tvalid_1's auc: 0.847825\n",
      "[100]\ttraining's auc: 0.872069\tvalid_1's auc: 0.865181\n",
      "[150]\ttraining's auc: 0.885716\tvalid_1's auc: 0.878093\n",
      "[200]\ttraining's auc: 0.897565\tvalid_1's auc: 0.889638\n",
      "[250]\ttraining's auc: 0.90834\tvalid_1's auc: 0.900068\n",
      "[300]\ttraining's auc: 0.91777\tvalid_1's auc: 0.909207\n",
      "[350]\ttraining's auc: 0.926203\tvalid_1's auc: 0.917239\n",
      "[400]\ttraining's auc: 0.933973\tvalid_1's auc: 0.924766\n",
      "[450]\ttraining's auc: 0.9411\tvalid_1's auc: 0.931765\n",
      "[500]\ttraining's auc: 0.947179\tvalid_1's auc: 0.937787\n",
      "[550]\ttraining's auc: 0.952922\tvalid_1's auc: 0.943571\n",
      "[600]\ttraining's auc: 0.958155\tvalid_1's auc: 0.94874\n",
      "[650]\ttraining's auc: 0.962697\tvalid_1's auc: 0.953381\n",
      "[700]\ttraining's auc: 0.96685\tvalid_1's auc: 0.957699\n",
      "[750]\ttraining's auc: 0.970601\tvalid_1's auc: 0.961283\n",
      "[800]\ttraining's auc: 0.973909\tvalid_1's auc: 0.964818\n",
      "[850]\ttraining's auc: 0.976881\tvalid_1's auc: 0.967953\n",
      "[900]\ttraining's auc: 0.979692\tvalid_1's auc: 0.970953\n",
      "[950]\ttraining's auc: 0.981847\tvalid_1's auc: 0.97319\n",
      "[1000]\ttraining's auc: 0.983762\tvalid_1's auc: 0.975126\n",
      "Did not meet early stopping. Best iteration is:\n",
      "[1000]\ttraining's auc: 0.983762\tvalid_1's auc: 0.975126\n",
      "err:  0.8371373958422401\n",
      "Training until validation scores don't improve for 300 rounds\n",
      "[50]\ttraining's auc: 0.853856\tvalid_1's auc: 0.847463\n",
      "[100]\ttraining's auc: 0.871779\tvalid_1's auc: 0.86492\n",
      "[150]\ttraining's auc: 0.885405\tvalid_1's auc: 0.877473\n",
      "[200]\ttraining's auc: 0.897298\tvalid_1's auc: 0.889407\n",
      "[250]\ttraining's auc: 0.907505\tvalid_1's auc: 0.899839\n",
      "[300]\ttraining's auc: 0.917457\tvalid_1's auc: 0.909513\n",
      "[350]\ttraining's auc: 0.926085\tvalid_1's auc: 0.918091\n",
      "[400]\ttraining's auc: 0.9339\tvalid_1's auc: 0.92563\n",
      "[450]\ttraining's auc: 0.941217\tvalid_1's auc: 0.932761\n",
      "[500]\ttraining's auc: 0.947277\tvalid_1's auc: 0.938798\n",
      "[550]\ttraining's auc: 0.952905\tvalid_1's auc: 0.944335\n",
      "[600]\ttraining's auc: 0.958011\tvalid_1's auc: 0.949131\n",
      "[650]\ttraining's auc: 0.96251\tvalid_1's auc: 0.954011\n",
      "[700]\ttraining's auc: 0.966705\tvalid_1's auc: 0.958117\n",
      "[750]\ttraining's auc: 0.969995\tvalid_1's auc: 0.961446\n",
      "[800]\ttraining's auc: 0.97348\tvalid_1's auc: 0.96493\n",
      "[850]\ttraining's auc: 0.976113\tvalid_1's auc: 0.967538\n",
      "[900]\ttraining's auc: 0.978568\tvalid_1's auc: 0.970047\n",
      "[950]\ttraining's auc: 0.980891\tvalid_1's auc: 0.972497\n",
      "[1000]\ttraining's auc: 0.983095\tvalid_1's auc: 0.97463\n",
      "Did not meet early stopping. Best iteration is:\n",
      "[1000]\ttraining's auc: 0.983095\tvalid_1's auc: 0.97463\n",
      "err:  0.8377593773014004\n",
      "Training until validation scores don't improve for 300 rounds\n",
      "[50]\ttraining's auc: 0.854122\tvalid_1's auc: 0.847794\n",
      "[100]\ttraining's auc: 0.872239\tvalid_1's auc: 0.865766\n",
      "[150]\ttraining's auc: 0.886517\tvalid_1's auc: 0.879349\n",
      "[200]\ttraining's auc: 0.898464\tvalid_1's auc: 0.891066\n",
      "[250]\ttraining's auc: 0.909026\tvalid_1's auc: 0.901525\n",
      "[300]\ttraining's auc: 0.918481\tvalid_1's auc: 0.910421\n",
      "[350]\ttraining's auc: 0.927047\tvalid_1's auc: 0.919123\n",
      "[400]\ttraining's auc: 0.934994\tvalid_1's auc: 0.926923\n",
      "[450]\ttraining's auc: 0.942155\tvalid_1's auc: 0.934165\n",
      "[500]\ttraining's auc: 0.948217\tvalid_1's auc: 0.940168\n",
      "[550]\ttraining's auc: 0.953663\tvalid_1's auc: 0.945495\n",
      "[600]\ttraining's auc: 0.958438\tvalid_1's auc: 0.950413\n",
      "[650]\ttraining's auc: 0.962792\tvalid_1's auc: 0.954584\n",
      "[700]\ttraining's auc: 0.966487\tvalid_1's auc: 0.958387\n",
      "[750]\ttraining's auc: 0.969889\tvalid_1's auc: 0.96183\n",
      "[800]\ttraining's auc: 0.973011\tvalid_1's auc: 0.964946\n",
      "[850]\ttraining's auc: 0.976094\tvalid_1's auc: 0.968084\n",
      "[900]\ttraining's auc: 0.978643\tvalid_1's auc: 0.97073\n",
      "[950]\ttraining's auc: 0.980873\tvalid_1's auc: 0.973024\n",
      "[1000]\ttraining's auc: 0.982962\tvalid_1's auc: 0.975334\n",
      "Did not meet early stopping. Best iteration is:\n",
      "[1000]\ttraining's auc: 0.982962\tvalid_1's auc: 0.975334\n",
      "err:  0.8388006101210588\n",
      "Training until validation scores don't improve for 300 rounds\n",
      "[50]\ttraining's auc: 0.854233\tvalid_1's auc: 0.847856\n",
      "[100]\ttraining's auc: 0.872356\tvalid_1's auc: 0.865495\n",
      "[150]\ttraining's auc: 0.885951\tvalid_1's auc: 0.878052\n",
      "[200]\ttraining's auc: 0.898367\tvalid_1's auc: 0.89011\n",
      "[250]\ttraining's auc: 0.908802\tvalid_1's auc: 0.899795\n",
      "[300]\ttraining's auc: 0.917962\tvalid_1's auc: 0.908592\n",
      "[350]\ttraining's auc: 0.926623\tvalid_1's auc: 0.917325\n",
      "[400]\ttraining's auc: 0.934046\tvalid_1's auc: 0.924604\n",
      "[450]\ttraining's auc: 0.940904\tvalid_1's auc: 0.931294\n",
      "[500]\ttraining's auc: 0.947153\tvalid_1's auc: 0.937476\n",
      "[550]\ttraining's auc: 0.952541\tvalid_1's auc: 0.942957\n",
      "[600]\ttraining's auc: 0.957454\tvalid_1's auc: 0.948019\n",
      "[650]\ttraining's auc: 0.962011\tvalid_1's auc: 0.952821\n",
      "[700]\ttraining's auc: 0.966171\tvalid_1's auc: 0.957047\n",
      "[750]\ttraining's auc: 0.969676\tvalid_1's auc: 0.960676\n",
      "[800]\ttraining's auc: 0.973118\tvalid_1's auc: 0.964323\n",
      "[850]\ttraining's auc: 0.975928\tvalid_1's auc: 0.967364\n",
      "[900]\ttraining's auc: 0.978538\tvalid_1's auc: 0.97013\n",
      "[950]\ttraining's auc: 0.980793\tvalid_1's auc: 0.972502\n",
      "[1000]\ttraining's auc: 0.982818\tvalid_1's auc: 0.974607\n",
      "Did not meet early stopping. Best iteration is:\n",
      "[1000]\ttraining's auc: 0.982818\tvalid_1's auc: 0.974607\n",
      "err:  0.832184299588196\n",
      "Training until validation scores don't improve for 300 rounds\n",
      "[50]\ttraining's auc: 0.853662\tvalid_1's auc: 0.847687\n",
      "[100]\ttraining's auc: 0.871825\tvalid_1's auc: 0.86534\n",
      "[150]\ttraining's auc: 0.88614\tvalid_1's auc: 0.878726\n",
      "[200]\ttraining's auc: 0.898213\tvalid_1's auc: 0.890352\n",
      "[250]\ttraining's auc: 0.908931\tvalid_1's auc: 0.900922\n",
      "[300]\ttraining's auc: 0.917898\tvalid_1's auc: 0.909702\n",
      "[350]\ttraining's auc: 0.926319\tvalid_1's auc: 0.918212\n",
      "[400]\ttraining's auc: 0.933832\tvalid_1's auc: 0.925671\n",
      "[450]\ttraining's auc: 0.940297\tvalid_1's auc: 0.93224\n",
      "[500]\ttraining's auc: 0.94665\tvalid_1's auc: 0.938554\n",
      "[550]\ttraining's auc: 0.952383\tvalid_1's auc: 0.944333\n",
      "[600]\ttraining's auc: 0.957172\tvalid_1's auc: 0.949179\n",
      "[650]\ttraining's auc: 0.961815\tvalid_1's auc: 0.953871\n",
      "[700]\ttraining's auc: 0.965718\tvalid_1's auc: 0.958077\n",
      "[750]\ttraining's auc: 0.969473\tvalid_1's auc: 0.961974\n",
      "[800]\ttraining's auc: 0.972918\tvalid_1's auc: 0.96559\n",
      "[850]\ttraining's auc: 0.97559\tvalid_1's auc: 0.968313\n",
      "[900]\ttraining's auc: 0.978239\tvalid_1's auc: 0.971104\n",
      "[950]\ttraining's auc: 0.980684\tvalid_1's auc: 0.973735\n",
      "[1000]\ttraining's auc: 0.982594\tvalid_1's auc: 0.975792\n",
      "Did not meet early stopping. Best iteration is:\n",
      "[1000]\ttraining's auc: 0.982594\tvalid_1's auc: 0.975792\n",
      "err:  0.8471663297025799\n",
      "Training until validation scores don't improve for 300 rounds\n",
      "[50]\ttraining's auc: 0.854936\tvalid_1's auc: 0.847426\n",
      "[100]\ttraining's auc: 0.872822\tvalid_1's auc: 0.865208\n",
      "[150]\ttraining's auc: 0.886526\tvalid_1's auc: 0.878336\n",
      "[200]\ttraining's auc: 0.897835\tvalid_1's auc: 0.889214\n",
      "[250]\ttraining's auc: 0.908162\tvalid_1's auc: 0.898872\n",
      "[300]\ttraining's auc: 0.917839\tvalid_1's auc: 0.908405\n",
      "[350]\ttraining's auc: 0.925949\tvalid_1's auc: 0.916585\n",
      "[400]\ttraining's auc: 0.933636\tvalid_1's auc: 0.924375\n",
      "[450]\ttraining's auc: 0.940123\tvalid_1's auc: 0.930784\n",
      "[500]\ttraining's auc: 0.946619\tvalid_1's auc: 0.937639\n",
      "[550]\ttraining's auc: 0.952264\tvalid_1's auc: 0.943157\n",
      "[600]\ttraining's auc: 0.957109\tvalid_1's auc: 0.947847\n",
      "[650]\ttraining's auc: 0.961706\tvalid_1's auc: 0.952843\n",
      "[700]\ttraining's auc: 0.965878\tvalid_1's auc: 0.957112\n",
      "[750]\ttraining's auc: 0.969506\tvalid_1's auc: 0.960983\n",
      "[800]\ttraining's auc: 0.972752\tvalid_1's auc: 0.964324\n",
      "[850]\ttraining's auc: 0.97567\tvalid_1's auc: 0.967333\n",
      "[900]\ttraining's auc: 0.978354\tvalid_1's auc: 0.970102\n",
      "[950]\ttraining's auc: 0.98065\tvalid_1's auc: 0.972618\n",
      "[1000]\ttraining's auc: 0.982835\tvalid_1's auc: 0.974842\n",
      "Did not meet early stopping. Best iteration is:\n",
      "[1000]\ttraining's auc: 0.982835\tvalid_1's auc: 0.974842\n",
      "err:  0.8223415464307091\n",
      "Training until validation scores don't improve for 300 rounds\n",
      "[50]\ttraining's auc: 0.854115\tvalid_1's auc: 0.847498\n",
      "[100]\ttraining's auc: 0.872381\tvalid_1's auc: 0.864901\n",
      "[150]\ttraining's auc: 0.885636\tvalid_1's auc: 0.877585\n",
      "[200]\ttraining's auc: 0.897785\tvalid_1's auc: 0.88988\n",
      "[250]\ttraining's auc: 0.908225\tvalid_1's auc: 0.900011\n",
      "[300]\ttraining's auc: 0.917783\tvalid_1's auc: 0.909382\n",
      "[350]\ttraining's auc: 0.925449\tvalid_1's auc: 0.916693\n",
      "[400]\ttraining's auc: 0.933531\tvalid_1's auc: 0.924112\n",
      "[450]\ttraining's auc: 0.940735\tvalid_1's auc: 0.931527\n",
      "[500]\ttraining's auc: 0.946723\tvalid_1's auc: 0.937571\n",
      "[550]\ttraining's auc: 0.952684\tvalid_1's auc: 0.943565\n",
      "[600]\ttraining's auc: 0.957716\tvalid_1's auc: 0.948607\n",
      "[650]\ttraining's auc: 0.96217\tvalid_1's auc: 0.953186\n",
      "[700]\ttraining's auc: 0.966128\tvalid_1's auc: 0.957104\n",
      "[750]\ttraining's auc: 0.969817\tvalid_1's auc: 0.960761\n"
     ]
    },
    {
     "name": "stdout",
     "output_type": "stream",
     "text": [
      "[800]\ttraining's auc: 0.972919\tvalid_1's auc: 0.964222\n",
      "[850]\ttraining's auc: 0.975769\tvalid_1's auc: 0.967183\n",
      "[900]\ttraining's auc: 0.978445\tvalid_1's auc: 0.969707\n",
      "[950]\ttraining's auc: 0.980875\tvalid_1's auc: 0.972258\n",
      "[1000]\ttraining's auc: 0.983441\tvalid_1's auc: 0.975115\n",
      "Did not meet early stopping. Best iteration is:\n",
      "[1000]\ttraining's auc: 0.983441\tvalid_1's auc: 0.975115\n",
      "err:  0.8326683694156133\n",
      "Training until validation scores don't improve for 300 rounds\n",
      "[50]\ttraining's auc: 0.854111\tvalid_1's auc: 0.847947\n",
      "[100]\ttraining's auc: 0.872\tvalid_1's auc: 0.864721\n",
      "[150]\ttraining's auc: 0.886038\tvalid_1's auc: 0.877945\n",
      "[200]\ttraining's auc: 0.897984\tvalid_1's auc: 0.889388\n",
      "[250]\ttraining's auc: 0.908476\tvalid_1's auc: 0.899601\n",
      "[300]\ttraining's auc: 0.917844\tvalid_1's auc: 0.908541\n",
      "[350]\ttraining's auc: 0.926622\tvalid_1's auc: 0.917376\n",
      "[400]\ttraining's auc: 0.933911\tvalid_1's auc: 0.924234\n",
      "[450]\ttraining's auc: 0.940837\tvalid_1's auc: 0.931105\n",
      "[500]\ttraining's auc: 0.947303\tvalid_1's auc: 0.937553\n",
      "[550]\ttraining's auc: 0.952687\tvalid_1's auc: 0.943141\n",
      "[600]\ttraining's auc: 0.957656\tvalid_1's auc: 0.948275\n"
     ]
    },
    {
     "ename": "KeyboardInterrupt",
     "evalue": "",
     "output_type": "error",
     "traceback": [
      "\u001b[1;31m---------------------------------------------------------------------------\u001b[0m",
      "\u001b[1;31mKeyboardInterrupt\u001b[0m                         Traceback (most recent call last)",
      "\u001b[1;32m<ipython-input-94-6850db55e30a>\u001b[0m in \u001b[0;36m<module>\u001b[1;34m\u001b[0m\n\u001b[0;32m     13\u001b[0m     \u001b[0my_train\u001b[0m\u001b[1;33m,\u001b[0m \u001b[0my_test\u001b[0m \u001b[1;33m=\u001b[0m \u001b[0my\u001b[0m\u001b[1;33m[\u001b[0m\u001b[0mtrain_index\u001b[0m\u001b[1;33m]\u001b[0m\u001b[1;33m,\u001b[0m \u001b[0my\u001b[0m\u001b[1;33m[\u001b[0m\u001b[0mtest_index\u001b[0m\u001b[1;33m]\u001b[0m\u001b[1;33m\u001b[0m\u001b[1;33m\u001b[0m\u001b[0m\n\u001b[0;32m     14\u001b[0m     \u001b[0mm\u001b[0m\u001b[1;33m=\u001b[0m\u001b[0mLGBMClassifier\u001b[0m\u001b[1;33m(\u001b[0m\u001b[1;33m**\u001b[0m\u001b[0mparam\u001b[0m\u001b[1;33m,\u001b[0m \u001b[0mrandom_state\u001b[0m\u001b[1;33m=\u001b[0m\u001b[1;36m188\u001b[0m\u001b[1;33m)\u001b[0m\u001b[1;33m\u001b[0m\u001b[1;33m\u001b[0m\u001b[0m\n\u001b[1;32m---> 15\u001b[1;33m     \u001b[0mm\u001b[0m\u001b[1;33m.\u001b[0m\u001b[0mfit\u001b[0m\u001b[1;33m(\u001b[0m\u001b[0mX_train\u001b[0m\u001b[1;33m,\u001b[0m\u001b[0my_train\u001b[0m\u001b[1;33m,\u001b[0m\u001b[0meval_set\u001b[0m\u001b[1;33m=\u001b[0m\u001b[1;33m[\u001b[0m\u001b[1;33m(\u001b[0m\u001b[0mX_train\u001b[0m\u001b[1;33m,\u001b[0m\u001b[0my_train\u001b[0m\u001b[1;33m)\u001b[0m\u001b[1;33m,\u001b[0m\u001b[1;33m(\u001b[0m\u001b[0mX_val\u001b[0m\u001b[1;33m,\u001b[0m \u001b[0my_val\u001b[0m\u001b[1;33m)\u001b[0m\u001b[1;33m]\u001b[0m\u001b[1;33m,\u001b[0m\u001b[0mverbose\u001b[0m\u001b[1;33m=\u001b[0m\u001b[1;36m50\u001b[0m\u001b[1;33m,\u001b[0m \u001b[0mearly_stopping_rounds\u001b[0m\u001b[1;33m=\u001b[0m\u001b[1;36m300\u001b[0m\u001b[1;33m)\u001b[0m\u001b[1;33m\u001b[0m\u001b[1;33m\u001b[0m\u001b[0m\n\u001b[0m\u001b[0;32m     16\u001b[0m     \u001b[0mpreds\u001b[0m\u001b[1;33m=\u001b[0m\u001b[0mm\u001b[0m\u001b[1;33m.\u001b[0m\u001b[0mpredict_proba\u001b[0m\u001b[1;33m(\u001b[0m\u001b[0mX_test\u001b[0m\u001b[1;33m)\u001b[0m\u001b[1;33m[\u001b[0m\u001b[1;33m:\u001b[0m\u001b[1;33m,\u001b[0m \u001b[1;36m1\u001b[0m\u001b[1;33m]\u001b[0m\u001b[1;33m\u001b[0m\u001b[1;33m\u001b[0m\u001b[0m\n\u001b[0;32m     17\u001b[0m     \u001b[0mprint\u001b[0m\u001b[1;33m(\u001b[0m\u001b[1;34m\"err: \"\u001b[0m\u001b[1;33m,\u001b[0m\u001b[0mroc_auc_score\u001b[0m\u001b[1;33m(\u001b[0m\u001b[0my_test\u001b[0m\u001b[1;33m,\u001b[0m\u001b[0mpreds\u001b[0m\u001b[1;33m)\u001b[0m\u001b[1;33m)\u001b[0m\u001b[1;33m\u001b[0m\u001b[1;33m\u001b[0m\u001b[0m\n",
      "\u001b[1;32m~\\Anaconda3\\lib\\site-packages\\lightgbm\\sklearn.py\u001b[0m in \u001b[0;36mfit\u001b[1;34m(self, X, y, sample_weight, init_score, eval_set, eval_names, eval_sample_weight, eval_class_weight, eval_init_score, eval_metric, early_stopping_rounds, verbose, feature_name, categorical_feature, callbacks)\u001b[0m\n\u001b[0;32m    803\u001b[0m                                         \u001b[0mverbose\u001b[0m\u001b[1;33m=\u001b[0m\u001b[0mverbose\u001b[0m\u001b[1;33m,\u001b[0m \u001b[0mfeature_name\u001b[0m\u001b[1;33m=\u001b[0m\u001b[0mfeature_name\u001b[0m\u001b[1;33m,\u001b[0m\u001b[1;33m\u001b[0m\u001b[1;33m\u001b[0m\u001b[0m\n\u001b[0;32m    804\u001b[0m                                         \u001b[0mcategorical_feature\u001b[0m\u001b[1;33m=\u001b[0m\u001b[0mcategorical_feature\u001b[0m\u001b[1;33m,\u001b[0m\u001b[1;33m\u001b[0m\u001b[1;33m\u001b[0m\u001b[0m\n\u001b[1;32m--> 805\u001b[1;33m                                         callbacks=callbacks)\n\u001b[0m\u001b[0;32m    806\u001b[0m         \u001b[1;32mreturn\u001b[0m \u001b[0mself\u001b[0m\u001b[1;33m\u001b[0m\u001b[1;33m\u001b[0m\u001b[0m\n\u001b[0;32m    807\u001b[0m \u001b[1;33m\u001b[0m\u001b[0m\n",
      "\u001b[1;32m~\\Anaconda3\\lib\\site-packages\\lightgbm\\sklearn.py\u001b[0m in \u001b[0;36mfit\u001b[1;34m(self, X, y, sample_weight, init_score, group, eval_set, eval_names, eval_sample_weight, eval_class_weight, eval_init_score, eval_group, eval_metric, early_stopping_rounds, verbose, feature_name, categorical_feature, callbacks)\u001b[0m\n\u001b[0;32m    598\u001b[0m                               \u001b[0mverbose_eval\u001b[0m\u001b[1;33m=\u001b[0m\u001b[0mverbose\u001b[0m\u001b[1;33m,\u001b[0m \u001b[0mfeature_name\u001b[0m\u001b[1;33m=\u001b[0m\u001b[0mfeature_name\u001b[0m\u001b[1;33m,\u001b[0m\u001b[1;33m\u001b[0m\u001b[1;33m\u001b[0m\u001b[0m\n\u001b[0;32m    599\u001b[0m                               \u001b[0mcategorical_feature\u001b[0m\u001b[1;33m=\u001b[0m\u001b[0mcategorical_feature\u001b[0m\u001b[1;33m,\u001b[0m\u001b[1;33m\u001b[0m\u001b[1;33m\u001b[0m\u001b[0m\n\u001b[1;32m--> 600\u001b[1;33m                               callbacks=callbacks)\n\u001b[0m\u001b[0;32m    601\u001b[0m \u001b[1;33m\u001b[0m\u001b[0m\n\u001b[0;32m    602\u001b[0m         \u001b[1;32mif\u001b[0m \u001b[0mevals_result\u001b[0m\u001b[1;33m:\u001b[0m\u001b[1;33m\u001b[0m\u001b[1;33m\u001b[0m\u001b[0m\n",
      "\u001b[1;32m~\\Anaconda3\\lib\\site-packages\\lightgbm\\engine.py\u001b[0m in \u001b[0;36mtrain\u001b[1;34m(params, train_set, num_boost_round, valid_sets, valid_names, fobj, feval, init_model, feature_name, categorical_feature, early_stopping_rounds, evals_result, verbose_eval, learning_rates, keep_training_booster, callbacks)\u001b[0m\n\u001b[0;32m    247\u001b[0m                                     evaluation_result_list=None))\n\u001b[0;32m    248\u001b[0m \u001b[1;33m\u001b[0m\u001b[0m\n\u001b[1;32m--> 249\u001b[1;33m         \u001b[0mbooster\u001b[0m\u001b[1;33m.\u001b[0m\u001b[0mupdate\u001b[0m\u001b[1;33m(\u001b[0m\u001b[0mfobj\u001b[0m\u001b[1;33m=\u001b[0m\u001b[0mfobj\u001b[0m\u001b[1;33m)\u001b[0m\u001b[1;33m\u001b[0m\u001b[1;33m\u001b[0m\u001b[0m\n\u001b[0m\u001b[0;32m    250\u001b[0m \u001b[1;33m\u001b[0m\u001b[0m\n\u001b[0;32m    251\u001b[0m         \u001b[0mevaluation_result_list\u001b[0m \u001b[1;33m=\u001b[0m \u001b[1;33m[\u001b[0m\u001b[1;33m]\u001b[0m\u001b[1;33m\u001b[0m\u001b[1;33m\u001b[0m\u001b[0m\n",
      "\u001b[1;32m~\\Anaconda3\\lib\\site-packages\\lightgbm\\basic.py\u001b[0m in \u001b[0;36mupdate\u001b[1;34m(self, train_set, fobj)\u001b[0m\n\u001b[0;32m   1974\u001b[0m             _safe_call(_LIB.LGBM_BoosterUpdateOneIter(\n\u001b[0;32m   1975\u001b[0m                 \u001b[0mself\u001b[0m\u001b[1;33m.\u001b[0m\u001b[0mhandle\u001b[0m\u001b[1;33m,\u001b[0m\u001b[1;33m\u001b[0m\u001b[1;33m\u001b[0m\u001b[0m\n\u001b[1;32m-> 1976\u001b[1;33m                 ctypes.byref(is_finished)))\n\u001b[0m\u001b[0;32m   1977\u001b[0m             \u001b[0mself\u001b[0m\u001b[1;33m.\u001b[0m\u001b[0m__is_predicted_cur_iter\u001b[0m \u001b[1;33m=\u001b[0m \u001b[1;33m[\u001b[0m\u001b[1;32mFalse\u001b[0m \u001b[1;32mfor\u001b[0m \u001b[0m_\u001b[0m \u001b[1;32min\u001b[0m \u001b[0mrange_\u001b[0m\u001b[1;33m(\u001b[0m\u001b[0mself\u001b[0m\u001b[1;33m.\u001b[0m\u001b[0m__num_dataset\u001b[0m\u001b[1;33m)\u001b[0m\u001b[1;33m]\u001b[0m\u001b[1;33m\u001b[0m\u001b[1;33m\u001b[0m\u001b[0m\n\u001b[0;32m   1978\u001b[0m             \u001b[1;32mreturn\u001b[0m \u001b[0mis_finished\u001b[0m\u001b[1;33m.\u001b[0m\u001b[0mvalue\u001b[0m \u001b[1;33m==\u001b[0m \u001b[1;36m1\u001b[0m\u001b[1;33m\u001b[0m\u001b[1;33m\u001b[0m\u001b[0m\n",
      "\u001b[1;31mKeyboardInterrupt\u001b[0m: "
     ]
    }
   ],
   "source": [
    "from sklearn.model_selection import cross_val_score, train_test_split, KFold, RepeatedStratifiedKFold\n",
    "from sklearn.metrics import roc_auc_score\n",
    "from sklearn.metrics import accuracy_score,confusion_matrix,roc_auc_score\n",
    "from sklearn.model_selection import RepeatedStratifiedKFold, StratifiedKFold, GroupKFold, train_test_split\n",
    "    \n",
    "errcb=[]\n",
    "y_pred_totcb=[]\n",
    "fold=StratifiedKFold(n_splits=20, random_state=1993, shuffle=True)#20\n",
    "i=1\n",
    "\n",
    "for train_index, test_index in fold.split(X,y):\n",
    "    X_train, X_test = X.iloc[train_index], X.iloc[test_index]\n",
    "    y_train, y_test = y[train_index], y[test_index]\n",
    "    m=LGBMClassifier(**param, random_state=188)\n",
    "    m.fit(X_train,y_train,eval_set=[(X_train,y_train),(X_val, y_val)],verbose=50, early_stopping_rounds=300)\n",
    "    preds=m.predict_proba(X_test)[:, 1]\n",
    "    print(\"err: \",roc_auc_score(y_test,preds))\n",
    "    errcb.append(roc_auc_score(y_test,preds))\n",
    "    p = m.predict_proba(test)[:, 1]\n",
    "    y_pred_totcb.append(p)"
   ]
  },
  {
   "cell_type": "code",
   "execution_count": 63,
   "metadata": {},
   "outputs": [
    {
     "data": {
      "image/png": "[encoded data removed]",
      "text/plain": [
       "<Figure size 1440x720 with 1 Axes>"
      ]
     },
     "metadata": {
      "needs_background": "dark"
     },
     "output_type": "display_data"
    }
   ],
   "source": [
    "fea_imp = pd.DataFrame({'imp':m.feature_importances_, 'col': X.columns})\n",
    "fea_imp = fea_imp.sort_values(['imp', 'col'], ascending=[True, False]).iloc[-30:]\n",
    "_ = fea_imp.plot(kind='barh', x='col', y='imp', figsize=(20, 10))\n",
    "plt.savefig('catboost_feature_importance.png')"
   ]
  },
  {
   "cell_type": "code",
   "execution_count": 64,
   "metadata": {},
   "outputs": [],
   "source": [
    "d = {\"Applicant_ID\": test_id, 'default_status':np.mean(y_pred_totcb, 0)}\n",
    "test_predictions = pd.DataFrame(data=d)\n",
    "test_predictions = test_predictions[[\"Applicant_ID\", 'default_status']]"
   ]
  },
  {
   "cell_type": "code",
   "execution_count": 65,
   "metadata": {},
   "outputs": [
    {
     "data": {
      "text/html": [
       "<div>\n",
       "<style scoped>\n",
       "    .dataframe tbody tr th:only-of-type {\n",
       "        vertical-align: middle;\n",
       "    }\n",
       "\n",
       "    .dataframe tbody tr th {\n",
       "        vertical-align: top;\n",
       "    }\n",
       "\n",
       "    .dataframe thead th {\n",
       "        text-align: right;\n",
       "    }\n",
       "</style>\n",
       "<table border=\"1\" class=\"dataframe\">\n",
       "  <thead>\n",
       "    <tr style=\"text-align: right;\">\n",
       "      <th></th>\n",
       "      <th>Applicant_ID</th>\n",
       "      <th>default_status</th>\n",
       "    </tr>\n",
       "  </thead>\n",
       "  <tbody>\n",
       "    <tr>\n",
       "      <td>0</td>\n",
       "      <td>Apcnt_1000032</td>\n",
       "      <td>0.250080</td>\n",
       "    </tr>\n",
       "    <tr>\n",
       "      <td>1</td>\n",
       "      <td>Apcnt_1000048</td>\n",
       "      <td>0.159972</td>\n",
       "    </tr>\n",
       "    <tr>\n",
       "      <td>2</td>\n",
       "      <td>Apcnt_1000052</td>\n",
       "      <td>0.412304</td>\n",
       "    </tr>\n",
       "    <tr>\n",
       "      <td>3</td>\n",
       "      <td>Apcnt_1000076</td>\n",
       "      <td>0.788176</td>\n",
       "    </tr>\n",
       "    <tr>\n",
       "      <td>4</td>\n",
       "      <td>Apcnt_1000080</td>\n",
       "      <td>0.046363</td>\n",
       "    </tr>\n",
       "  </tbody>\n",
       "</table>\n",
       "</div>"
      ],
      "text/plain": [
       "    Applicant_ID  default_status\n",
       "0  Apcnt_1000032        0.250080\n",
       "1  Apcnt_1000048        0.159972\n",
       "2  Apcnt_1000052        0.412304\n",
       "3  Apcnt_1000076        0.788176\n",
       "4  Apcnt_1000080        0.046363"
      ]
     },
     "execution_count": 65,
     "metadata": {},
     "output_type": "execute_result"
    }
   ],
   "source": [
    "test_predictions.head()"
   ]
  },
  {
   "cell_type": "code",
   "execution_count": 66,
   "metadata": {},
   "outputs": [],
   "source": [
    "test_predictions.to_csv('LGBM-X.csv', index=False)"
   ]
  },
  {
   "cell_type": "code",
   "execution_count": 50,
   "metadata": {},
   "outputs": [],
   "source": [
    "from sklearn.linear_model import LogisticRegression\n",
    "from sklearn.ensemble import  AdaBoostClassifier"
   ]
  },
  {
   "cell_type": "code",
   "execution_count": 63,
   "metadata": {},
   "outputs": [],
   "source": [
    "model =  LogisticRegression(random_state=2001)\n",
    "clf4 = AdaBoostClassifier(base_estimator =model, n_estimators=2000, learning_rate =0.05)"
   ]
  },
  {
   "cell_type": "code",
   "execution_count": 64,
   "metadata": {},
   "outputs": [
    {
     "data": {
      "text/plain": [
       "AdaBoostClassifier(algorithm='SAMME.R',\n",
       "                   base_estimator=LogisticRegression(C=1.0, class_weight=None,\n",
       "                                                     dual=False,\n",
       "                                                     fit_intercept=True,\n",
       "                                                     intercept_scaling=1,\n",
       "                                                     l1_ratio=None,\n",
       "                                                     max_iter=100,\n",
       "                                                     multi_class='auto',\n",
       "                                                     n_jobs=None, penalty='l2',\n",
       "                                                     random_state=2001,\n",
       "                                                     solver='lbfgs', tol=0.0001,\n",
       "                                                     verbose=0,\n",
       "                                                     warm_start=False),\n",
       "                   learning_rate=0.05, n_estimators=2000, random_state=None)"
      ]
     },
     "execution_count": 64,
     "metadata": {},
     "output_type": "execute_result"
    }
   ],
   "source": [
    "clf4.fit(X,y)"
   ]
  },
  {
   "cell_type": "code",
   "execution_count": 65,
   "metadata": {},
   "outputs": [],
   "source": [
    "p2 = clf4.predict_proba(test)[:, 1]"
   ]
  },
  {
   "cell_type": "code",
   "execution_count": 66,
   "metadata": {},
   "outputs": [],
   "source": [
    "d = {\"Applicant_ID\": test_id, 'default_status':p2}\n",
    "test_predictions = pd.DataFrame(data=d)\n",
    "test_predictions = test_predictions[[\"Applicant_ID\", 'default_status']]"
   ]
  },
  {
   "cell_type": "code",
   "execution_count": 67,
   "metadata": {},
   "outputs": [
    {
     "data": {
      "text/html": [
       "<div>\n",
       "<style scoped>\n",
       "    .dataframe tbody tr th:only-of-type {\n",
       "        vertical-align: middle;\n",
       "    }\n",
       "\n",
       "    .dataframe tbody tr th {\n",
       "        vertical-align: top;\n",
       "    }\n",
       "\n",
       "    .dataframe thead th {\n",
       "        text-align: right;\n",
       "    }\n",
       "</style>\n",
       "<table border=\"1\" class=\"dataframe\">\n",
       "  <thead>\n",
       "    <tr style=\"text-align: right;\">\n",
       "      <th></th>\n",
       "      <th>Applicant_ID</th>\n",
       "      <th>default_status</th>\n",
       "    </tr>\n",
       "  </thead>\n",
       "  <tbody>\n",
       "    <tr>\n",
       "      <td>0</td>\n",
       "      <td>Apcnt_1000032</td>\n",
       "      <td>0.498766</td>\n",
       "    </tr>\n",
       "    <tr>\n",
       "      <td>1</td>\n",
       "      <td>Apcnt_1000048</td>\n",
       "      <td>0.498487</td>\n",
       "    </tr>\n",
       "    <tr>\n",
       "      <td>2</td>\n",
       "      <td>Apcnt_1000052</td>\n",
       "      <td>0.499998</td>\n",
       "    </tr>\n",
       "    <tr>\n",
       "      <td>3</td>\n",
       "      <td>Apcnt_1000076</td>\n",
       "      <td>0.499772</td>\n",
       "    </tr>\n",
       "    <tr>\n",
       "      <td>4</td>\n",
       "      <td>Apcnt_1000080</td>\n",
       "      <td>0.498150</td>\n",
       "    </tr>\n",
       "  </tbody>\n",
       "</table>\n",
       "</div>"
      ],
      "text/plain": [
       "    Applicant_ID  default_status\n",
       "0  Apcnt_1000032        0.498766\n",
       "1  Apcnt_1000048        0.498487\n",
       "2  Apcnt_1000052        0.499998\n",
       "3  Apcnt_1000076        0.499772\n",
       "4  Apcnt_1000080        0.498150"
      ]
     },
     "execution_count": 67,
     "metadata": {},
     "output_type": "execute_result"
    }
   ],
   "source": [
    "test_predictions.head()"
   ]
  },
  {
   "cell_type": "code",
   "execution_count": 68,
   "metadata": {},
   "outputs": [],
   "source": [
    "test_predictions.to_csv('ADA.csv', index=False)"
   ]
  },
  {
   "cell_type": "code",
   "execution_count": 70,
   "metadata": {},
   "outputs": [
    {
     "data": {
      "text/plain": [
       "Index(['form_field1', 'form_field2', 'form_field3', 'form_field4',\n",
       "       'form_field5', 'form_field6', 'form_field7', 'form_field8',\n",
       "       'form_field9', 'form_field10', 'form_field11', 'form_field12',\n",
       "       'form_field13', 'form_field14', 'form_field15', 'form_field16',\n",
       "       'form_field17', 'form_field18', 'form_field19', 'form_field20',\n",
       "       'form_field21', 'form_field22', 'form_field23', 'form_field24',\n",
       "       'form_field25', 'form_field26', 'form_field27', 'form_field28',\n",
       "       'form_field29', 'form_field30', 'form_field31', 'form_field32',\n",
       "       'form_field33', 'form_field34', 'form_field35', 'form_field36',\n",
       "       'form_field37', 'form_field38', 'form_field39', 'form_field40',\n",
       "       'form_field41', 'form_field42', 'form_field43', 'form_field44',\n",
       "       'form_field45', 'form_field46', 'form_field47_1', 'form_field48',\n",
       "       'form_field49', 'form_field50', 'Total_severity',\n",
       "       'Total_loans_last2yrs', 'Total _active credits', '12-11', '17-18',\n",
       "       '48/49', 'Amount_paid_to_sum_due', '32/33', '14-13',\n",
       "       'DX/DYAverage utilization', 'Debt_to_income', 'worth_level',\n",
       "       'Binned income', 'min_form_field1', 'max_form_field1',\n",
       "       'mean_form_field1', 'min_form_field2', 'max_form_field2',\n",
       "       'mean_form_field2'],\n",
       "      dtype='object')"
      ]
     },
     "execution_count": 70,
     "metadata": {},
     "output_type": "execute_result"
    }
   ],
   "source": [
    "X.columns"
   ]
  },
  {
   "cell_type": "code",
   "execution_count": 181,
   "metadata": {},
   "outputs": [
    {
     "data": {
      "text/html": [
       "<div>\n",
       "<style scoped>\n",
       "    .dataframe tbody tr th:only-of-type {\n",
       "        vertical-align: middle;\n",
       "    }\n",
       "\n",
       "    .dataframe tbody tr th {\n",
       "        vertical-align: top;\n",
       "    }\n",
       "\n",
       "    .dataframe thead th {\n",
       "        text-align: right;\n",
       "    }\n",
       "</style>\n",
       "<table border=\"1\" class=\"dataframe\">\n",
       "  <thead>\n",
       "    <tr style=\"text-align: right;\">\n",
       "      <th></th>\n",
       "      <th>default_status</th>\n",
       "    </tr>\n",
       "  </thead>\n",
       "  <tbody>\n",
       "    <tr>\n",
       "      <td>0</td>\n",
       "      <td>0.0</td>\n",
       "    </tr>\n",
       "    <tr>\n",
       "      <td>1</td>\n",
       "      <td>0.0</td>\n",
       "    </tr>\n",
       "    <tr>\n",
       "      <td>2</td>\n",
       "      <td>1.0</td>\n",
       "    </tr>\n",
       "    <tr>\n",
       "      <td>3</td>\n",
       "      <td>0.0</td>\n",
       "    </tr>\n",
       "    <tr>\n",
       "      <td>4</td>\n",
       "      <td>0.0</td>\n",
       "    </tr>\n",
       "  </tbody>\n",
       "</table>\n",
       "</div>"
      ],
      "text/plain": [
       "   default_status\n",
       "0             0.0\n",
       "1             0.0\n",
       "2             1.0\n",
       "3             0.0\n",
       "4             0.0"
      ]
     },
     "execution_count": 181,
     "metadata": {},
     "output_type": "execute_result"
    }
   ],
   "source": [
    "y=pd.DataFrame(data=y);y.head()"
   ]
  },
  {
   "cell_type": "code",
   "execution_count": 182,
   "metadata": {},
   "outputs": [
    {
     "data": {
      "text/html": [
       "<div>\n",
       "<style scoped>\n",
       "    .dataframe tbody tr th:only-of-type {\n",
       "        vertical-align: middle;\n",
       "    }\n",
       "\n",
       "    .dataframe tbody tr th {\n",
       "        vertical-align: top;\n",
       "    }\n",
       "\n",
       "    .dataframe thead th {\n",
       "        text-align: right;\n",
       "    }\n",
       "</style>\n",
       "<table border=\"1\" class=\"dataframe\">\n",
       "  <thead>\n",
       "    <tr style=\"text-align: right;\">\n",
       "      <th></th>\n",
       "      <th>form_field1</th>\n",
       "      <th>form_field2</th>\n",
       "      <th>form_field3</th>\n",
       "      <th>form_field4</th>\n",
       "      <th>form_field5</th>\n",
       "      <th>form_field6</th>\n",
       "      <th>form_field7</th>\n",
       "      <th>form_field8</th>\n",
       "      <th>form_field9</th>\n",
       "      <th>form_field10</th>\n",
       "      <th>...</th>\n",
       "      <th>DX/DYAverage utilization</th>\n",
       "      <th>Debt_to_income</th>\n",
       "      <th>worth_level</th>\n",
       "      <th>Binned income</th>\n",
       "      <th>min_form_field1</th>\n",
       "      <th>max_form_field1</th>\n",
       "      <th>mean_form_field1</th>\n",
       "      <th>min_form_field2</th>\n",
       "      <th>max_form_field2</th>\n",
       "      <th>mean_form_field2</th>\n",
       "    </tr>\n",
       "  </thead>\n",
       "  <tbody>\n",
       "    <tr>\n",
       "      <td>55995</td>\n",
       "      <td>3740.0</td>\n",
       "      <td>0.01730</td>\n",
       "      <td>0.0000</td>\n",
       "      <td>0.0000</td>\n",
       "      <td>0.0</td>\n",
       "      <td>770998.0</td>\n",
       "      <td>9637475.0</td>\n",
       "      <td>4047934.0</td>\n",
       "      <td>11641992.0</td>\n",
       "      <td>19910965.0</td>\n",
       "      <td>...</td>\n",
       "      <td>1662.15</td>\n",
       "      <td>0.54%</td>\n",
       "      <td>worthy</td>\n",
       "      <td>high</td>\n",
       "      <td>3740.0</td>\n",
       "      <td>3740.0</td>\n",
       "      <td>3740.0</td>\n",
       "      <td>0.01730</td>\n",
       "      <td>0.01730</td>\n",
       "      <td>0.01730</td>\n",
       "    </tr>\n",
       "    <tr>\n",
       "      <td>55996</td>\n",
       "      <td>3360.0</td>\n",
       "      <td>2.01145</td>\n",
       "      <td>0.6252</td>\n",
       "      <td>0.0000</td>\n",
       "      <td>0.0</td>\n",
       "      <td>-1.0</td>\n",
       "      <td>927765.0</td>\n",
       "      <td>-1.0</td>\n",
       "      <td>-1.0</td>\n",
       "      <td>1849306.0</td>\n",
       "      <td>...</td>\n",
       "      <td>13351.00</td>\n",
       "      <td>0.0%</td>\n",
       "      <td>less-worthy</td>\n",
       "      <td>high</td>\n",
       "      <td>3360.0</td>\n",
       "      <td>3360.0</td>\n",
       "      <td>3360.0</td>\n",
       "      <td>2.01145</td>\n",
       "      <td>2.01145</td>\n",
       "      <td>2.01145</td>\n",
       "    </tr>\n",
       "    <tr>\n",
       "      <td>55997</td>\n",
       "      <td>3500.0</td>\n",
       "      <td>0.76640</td>\n",
       "      <td>0.0000</td>\n",
       "      <td>0.0000</td>\n",
       "      <td>0.0</td>\n",
       "      <td>118645.0</td>\n",
       "      <td>3662435.0</td>\n",
       "      <td>3662435.0</td>\n",
       "      <td>3585024.0</td>\n",
       "      <td>704090.0</td>\n",
       "      <td>...</td>\n",
       "      <td>-10483.05</td>\n",
       "      <td>0.19%</td>\n",
       "      <td>worthy</td>\n",
       "      <td>high</td>\n",
       "      <td>3500.0</td>\n",
       "      <td>3500.0</td>\n",
       "      <td>3500.0</td>\n",
       "      <td>0.76640</td>\n",
       "      <td>0.76640</td>\n",
       "      <td>0.76640</td>\n",
       "    </tr>\n",
       "    <tr>\n",
       "      <td>55998</td>\n",
       "      <td>3280.0</td>\n",
       "      <td>0.05235</td>\n",
       "      <td>2.0916</td>\n",
       "      <td>2.2212</td>\n",
       "      <td>0.0</td>\n",
       "      <td>-1.0</td>\n",
       "      <td>3458599.0</td>\n",
       "      <td>-1.0</td>\n",
       "      <td>115533.0</td>\n",
       "      <td>3458599.0</td>\n",
       "      <td>...</td>\n",
       "      <td>0.00</td>\n",
       "      <td>0.0%</td>\n",
       "      <td>less-worthy</td>\n",
       "      <td>high</td>\n",
       "      <td>3280.0</td>\n",
       "      <td>3280.0</td>\n",
       "      <td>3280.0</td>\n",
       "      <td>0.05235</td>\n",
       "      <td>0.05235</td>\n",
       "      <td>0.05235</td>\n",
       "    </tr>\n",
       "    <tr>\n",
       "      <td>55999</td>\n",
       "      <td>3522.0</td>\n",
       "      <td>0.46930</td>\n",
       "      <td>0.0000</td>\n",
       "      <td>0.0000</td>\n",
       "      <td>0.0</td>\n",
       "      <td>98806.0</td>\n",
       "      <td>2053920.0</td>\n",
       "      <td>523983.0</td>\n",
       "      <td>14903368.0</td>\n",
       "      <td>5430440.0</td>\n",
       "      <td>...</td>\n",
       "      <td>0.00</td>\n",
       "      <td>0.25%</td>\n",
       "      <td>worthy</td>\n",
       "      <td>high</td>\n",
       "      <td>3522.0</td>\n",
       "      <td>3522.0</td>\n",
       "      <td>3522.0</td>\n",
       "      <td>0.46930</td>\n",
       "      <td>0.46930</td>\n",
       "      <td>0.46930</td>\n",
       "    </tr>\n",
       "  </tbody>\n",
       "</table>\n",
       "<p>5 rows × 70 columns</p>\n",
       "</div>"
      ],
      "text/plain": [
       "       form_field1  form_field2  form_field3  form_field4  form_field5  \\\n",
       "55995       3740.0      0.01730       0.0000       0.0000          0.0   \n",
       "55996       3360.0      2.01145       0.6252       0.0000          0.0   \n",
       "55997       3500.0      0.76640       0.0000       0.0000          0.0   \n",
       "55998       3280.0      0.05235       2.0916       2.2212          0.0   \n",
       "55999       3522.0      0.46930       0.0000       0.0000          0.0   \n",
       "\n",
       "       form_field6  form_field7  form_field8  form_field9  form_field10  ...  \\\n",
       "55995     770998.0    9637475.0    4047934.0   11641992.0    19910965.0  ...   \n",
       "55996         -1.0     927765.0         -1.0         -1.0     1849306.0  ...   \n",
       "55997     118645.0    3662435.0    3662435.0    3585024.0      704090.0  ...   \n",
       "55998         -1.0    3458599.0         -1.0     115533.0     3458599.0  ...   \n",
       "55999      98806.0    2053920.0     523983.0   14903368.0     5430440.0  ...   \n",
       "\n",
       "       DX/DYAverage utilization  Debt_to_income  worth_level  Binned income  \\\n",
       "55995                   1662.15           0.54%       worthy           high   \n",
       "55996                  13351.00            0.0%  less-worthy           high   \n",
       "55997                 -10483.05           0.19%       worthy           high   \n",
       "55998                      0.00            0.0%  less-worthy           high   \n",
       "55999                      0.00           0.25%       worthy           high   \n",
       "\n",
       "       min_form_field1  max_form_field1  mean_form_field1  min_form_field2  \\\n",
       "55995           3740.0           3740.0            3740.0          0.01730   \n",
       "55996           3360.0           3360.0            3360.0          2.01145   \n",
       "55997           3500.0           3500.0            3500.0          0.76640   \n",
       "55998           3280.0           3280.0            3280.0          0.05235   \n",
       "55999           3522.0           3522.0            3522.0          0.46930   \n",
       "\n",
       "       max_form_field2  mean_form_field2  \n",
       "55995          0.01730           0.01730  \n",
       "55996          2.01145           2.01145  \n",
       "55997          0.76640           0.76640  \n",
       "55998          0.05235           0.05235  \n",
       "55999          0.46930           0.46930  \n",
       "\n",
       "[5 rows x 70 columns]"
      ]
     },
     "execution_count": 182,
     "metadata": {},
     "output_type": "execute_result"
    }
   ],
   "source": [
    "train.tail()"
   ]
  },
  {
   "cell_type": "code",
   "execution_count": 183,
   "metadata": {},
   "outputs": [],
   "source": [
    "train=pd.concat([X,y], axis=1)"
   ]
  },
  {
   "cell_type": "code",
   "execution_count": 192,
   "metadata": {},
   "outputs": [],
   "source": [
    "train_col = ['form_field1', 'form_field2',\n",
    "             'form_field47_1', 'form_field48',\n",
    "       'form_field49', 'form_field50', 'Total_severity',\n",
    "       'Total_loans_last2yrs', 'Total _active credits', '12-11', '17-18',\n",
    "       '48/49', 'Amount_paid_to_sum_due', '32/33', '14-13',\n",
    "       'DX/DYAverage utilization', 'Debt_to_income', 'worth_level',\n",
    "       'Binned income', 'min_form_field1', 'max_form_field1',\n",
    "       'mean_form_field1', 'min_form_field2', 'max_form_field2',\n",
    "       'mean_form_field2','form_field3', 'form_field4',\n",
    "       'form_field5', 'form_field6', 'form_field7', 'form_field8',\n",
    "       'form_field9', 'form_field10', 'form_field11', 'form_field12',\n",
    "       'form_field13', 'form_field14', 'form_field15', 'form_field16',\n",
    "       'form_field17', 'form_field19', 'form_field20',\n",
    "       'form_field21', 'form_field22', 'form_field23', 'form_field24',\n",
    "       'form_field25', 'form_field26', 'form_field27', 'form_field28',\n",
    "       'form_field29', 'form_field30', 'form_field31', 'form_field32',\n",
    "       'form_field33', 'form_field34', 'form_field35', 'form_field36',\n",
    "       'form_field37', 'form_field38', 'form_field39', 'form_field40',\n",
    "       'form_field41', 'form_field42', 'form_field43', 'form_field44',\n",
    "       'form_field45', 'form_field46'\n",
    "            ]"
   ]
  },
  {
   "cell_type": "code",
   "execution_count": 207,
   "metadata": {},
   "outputs": [
    {
     "name": "stdout",
     "output_type": "stream",
     "text": [
      "Fold  0\n",
      "0.8007900207900208\n",
      "Fold  1\n",
      "0.8248702729939585\n",
      "Fold  2\n",
      "0.811362433442302\n",
      "Fold  3\n",
      "0.8269035904136901\n",
      "Fold  4\n",
      "0.8244223670155623\n",
      "Fold  5\n",
      "0.8179873569245634\n",
      "['form_field1', 'form_field2', 'form_field47_1', 'form_field48', 'form_field49', 'form_field50', 'Total_severity', 'Total_loans_last2yrs', 'Total _active credits', '12-11', '17-18', '48/49', 'Amount_paid_to_sum_due', '32/33', '14-13', 'DX/DYAverage utilization', 'Debt_to_income', 'worth_level', 'Binned income', 'min_form_field1', 'max_form_field1', 'mean_form_field1', 'min_form_field2', 'max_form_field2', 'mean_form_field2', 'form_field3', 'form_field4', 'form_field5', 'form_field6', 'form_field7', 'form_field8', 'form_field9', 'form_field10', 'form_field11', 'form_field12', 'form_field13', 'form_field14', 'form_field15', 'form_field16', 'form_field17', 'form_field19', 'form_field20', 'form_field21', 'form_field22', 'form_field23', 'form_field24', 'form_field25', 'form_field26', 'form_field27', 'form_field28', 'form_field29', 'form_field30', 'form_field31', 'form_field32', 'form_field33', 'form_field34', 'form_field35', 'form_field36', 'form_field37', 'form_field38', 'form_field39', 'form_field40', 'form_field41', 'form_field42', 'form_field43', 'form_field44', 'form_field45', 'form_field46']\n",
      "0.8154083230596196\n"
     ]
    }
   ],
   "source": [
    "from sklearn.ensemble import RandomForestClassifier\n",
    "from sklearn.model_selection import train_test_split, KFold, GroupKFold\n",
    "oof = np.zeros(len(X))\n",
    "Target_name=\"default_status\"\n",
    "not_used_cols=[Target_name]\n",
    "features_name=[ f for f in train_col if f not in not_used_cols]\n",
    "skf = GroupKFold(n_splits=6)\n",
    "for i, (idxT, idxV) in enumerate( skf.split(X, y, groups=X.form_field1) ):\n",
    "\n",
    "    \n",
    "    \n",
    "    log_train = X.loc[idxT,features_name]\n",
    "    log_test = X.loc[idxV,features_name]\n",
    "\n",
    "\n",
    "    log_train_y = train['default_status'][idxT]\n",
    "    log_test_y = train['default_status'][idxV]\n",
    " \n",
    "\n",
    "    lr = RandomForestClassifier(random_state=7, n_estimators=2000, max_depth=6,class_weight='balanced',min_samples_split=10,min_samples_leaf=10)\n",
    "\n",
    "    lr.fit(log_train,log_train_y)\n",
    "\n",
    "    pred = lr.predict_proba(log_test)[:,1]\n",
    "    oof[idxV] = pred\n",
    "\n",
    "    print('Fold ', i)\n",
    "    print (roc_auc_score(log_test_y, pred))\n",
    "print(features_name)\n",
    "print(roc_auc_score(y, oof))"
   ]
  }
 ],
 "metadata": {
  "kernelspec": {
   "display_name": "Python 3",
   "language": "python",
   "name": "python3"
  },
  "language_info": {
   "codemirror_mode": {
    "name": "ipython",
    "version": 3
   },
   "file_extension": ".py",
   "mimetype": "text/x-python",
   "name": "python",
   "nbconvert_exporter": "python",
   "pygments_lexer": "ipython3",
   "version": "3.7.4"
  },
  "toc": {
   "base_numbering": 1,
   "nav_menu": {},
   "number_sections": true,
   "sideBar": true,
   "skip_h1_title": false,
   "title_cell": "Table of Contents",
   "title_sidebar": "Contents",
   "toc_cell": false,
   "toc_position": {},
   "toc_section_display": true,
   "toc_window_display": false
  }
 },
 "nbformat": 4,
 "nbformat_minor": 2
}
