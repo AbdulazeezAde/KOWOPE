{
 "cells": [
  {
   "cell_type": "code",
   "execution_count": 1,
   "metadata": {},
   "outputs": [],
   "source": [
    "#Import necessary dependencies or frameworks or libraries\n",
    "from plotly import graph_objs as go;import copy; import datetime;import gc; gc.collect()\n",
    "import numpy as np;import pandas as pd, os, gc;import seaborn as sns;from tqdm import tqdm; import missingno as msno\n",
    "from sklearn.model_selection import KFold,cross_val_score,GroupKFold,RepeatedKFold,StratifiedKFold,GridSearchCV,cross_validate\n",
    "import plotly.express as px;import math\n",
    "from scipy import stats;import statsmodels.api as sm;from statsmodels.stats import diagnostic as diag\n",
    "from statsmodels.stats.outliers_influence import variance_inflation_factor\n",
    "import time;import warnings;from matplotlib import pyplot as plt\n",
    "%matplotlib inline\n",
    "from sklearn.feature_selection import RFE\n",
    "from sklearn.model_selection import train_test_split; from sklearn.preprocessing import StandardScaler\n",
    "from sklearn.impute import SimpleImputer; import xgboost as xgb\n",
    "import matplotlib.pyplot as plt\n",
    "from sklearn.metrics import roc_curve, auc, log_loss;from sklearn.feature_selection import mutual_info_classif\n",
    "import lightgbm as lgb;from sklearn import metrics; from scipy.optimize import minimize\n",
    "from lightgbm import LGBMClassifier; from catboost import CatBoostClassifier\n",
    "warnings.filterwarnings('ignore')\n",
    "from typing import List\n",
    "import perfplot"
   ]
  },
  {
   "cell_type": "code",
   "execution_count": 2,
   "metadata": {},
   "outputs": [],
   "source": [
    "#Data path & csv files name extension\n",
    "data_path='/Users/DELL/Desktop/Hackhathons/Kowope/Data/'\n",
    "train='Train.csv';test='Test.csv';submission ='SampleSubmission.csv'"
   ]
  },
  {
   "cell_type": "code",
   "execution_count": 3,
   "metadata": {},
   "outputs": [],
   "source": [
    "#define some fxn to read the data set\n",
    "def read_train():\n",
    "    train_data =pd.read_csv(data_path + train)\n",
    "    return train_data\n",
    "def read_test():\n",
    "    test_data =pd.read_csv(data_path + test)\n",
    "    return test_data\n",
    "def read_submission():\n",
    "    sample_submission =pd.read_csv(data_path + submission)\n",
    "    return sample_submission\n",
    "#Assign defined fxns to variables\n",
    "train = read_train();test=read_test();submission=read_submission()"
   ]
  },
  {
   "cell_type": "code",
   "execution_count": 4,
   "metadata": {},
   "outputs": [],
   "source": [
    "test=test.copy()"
   ]
  },
  {
   "cell_type": "code",
   "execution_count": 5,
   "metadata": {},
   "outputs": [],
   "source": [
    "test_id=test['Applicant_ID']"
   ]
  },
  {
   "cell_type": "code",
   "execution_count": 6,
   "metadata": {},
   "outputs": [],
   "source": [
    "train['default_status']= train['default_status'].replace({'yes': 1,'no': 0})"
   ]
  },
  {
   "cell_type": "code",
   "execution_count": 7,
   "metadata": {},
   "outputs": [],
   "source": [
    "train.fillna(-999, inplace=True)\n",
    "test.fillna(-999, inplace=True)"
   ]
  },
  {
   "cell_type": "code",
   "execution_count": 8,
   "metadata": {},
   "outputs": [],
   "source": [
    "train['loans_behaviour']=train['form_field3'] - (train['form_field4'] +train['form_field5'])"
   ]
  },
  {
   "cell_type": "code",
   "execution_count": 9,
   "metadata": {},
   "outputs": [],
   "source": [
    "train.drop(['Applicant_ID'], axis=1, inplace =True)\n",
    "test.drop(['Applicant_ID'], axis=1, inplace =True)"
   ]
  },
  {
   "cell_type": "code",
   "execution_count": 10,
   "metadata": {},
   "outputs": [],
   "source": [
    "features=['form_field1','form_field2'] #add field12"
   ]
  },
  {
   "cell_type": "code",
   "execution_count": 11,
   "metadata": {},
   "outputs": [],
   "source": [
    "data=pd.concat([train,test],sort=False).reset_index(drop=True)"
   ]
  },
  {
   "cell_type": "code",
   "execution_count": 12,
   "metadata": {},
   "outputs": [
    {
     "data": {
      "text/plain": [
       "60772.0"
      ]
     },
     "execution_count": 12,
     "metadata": {},
     "output_type": "execute_result"
    }
   ],
   "source": [
    "data['form_field28'].max()"
   ]
  },
  {
   "cell_type": "code",
   "execution_count": 13,
   "metadata": {},
   "outputs": [],
   "source": [
    "def chdx(data):\n",
    "    if data.form_field1 <=3450:\n",
    "        return 'ff-seg1'\n",
    "    else:\n",
    "        return 'ff-seg2'\n",
    "data['ff1'] = data.apply(lambda data:chdx(data), axis=1)"
   ]
  },
  {
   "cell_type": "code",
   "execution_count": 14,
   "metadata": {},
   "outputs": [],
   "source": [
    "def chdx2(data):\n",
    "    if data.form_field30 <=5000:\n",
    "        return 'ff-seg30'\n",
    "    else:\n",
    "        return 'ff-seg30x'\n",
    "data['ff30'] = data.apply(lambda data:chdx2(data), axis=1)"
   ]
  },
  {
   "cell_type": "code",
   "execution_count": 15,
   "metadata": {},
   "outputs": [],
   "source": [
    "def chdx3(data):\n",
    "    if data.form_field42 <=0.30:\n",
    "        return 'ff-seg42'\n",
    "    elif data.form_field42 >0.30 and data.form_field42 <=1.50:\n",
    "        return 'ff-seg42x'\n",
    "    else:\n",
    "        return 'ff-seg42xx'\n",
    "data['ff42'] = data.apply(lambda data:chdx3(data), axis=1)"
   ]
  },
  {
   "cell_type": "code",
   "execution_count": 16,
   "metadata": {},
   "outputs": [],
   "source": [
    "data['form_field28']=np.log(data['form_field28'])\n",
    "data['form_field13']=np.log(data['form_field13'])\n",
    "data['form_field27']=np.log(data['form_field27'])\n",
    "data['form_field29']=np.log(data['form_field29'])\n",
    "data['form_field1']=np.log(data['form_field1'])"
   ]
  },
  {
   "cell_type": "code",
   "execution_count": 17,
   "metadata": {},
   "outputs": [],
   "source": [
    "def aggregate_features(x,col_name):\n",
    "    x[\"min_\"+col_name]=x[col_name].apply(np.min)\n",
    "    x[\"max_\"+col_name]=x[col_name].apply(np.max)\n",
    "    x[\"mean_\"+col_name]=x[col_name].apply(np.mean)\n",
    "    return x  "
   ]
  },
  {
   "cell_type": "code",
   "execution_count": 18,
   "metadata": {},
   "outputs": [
    {
     "name": "stderr",
     "output_type": "stream",
     "text": [
      "100%|████████████████████████████████████████████████████████████████████████████████████| 2/2 [00:02<00:00,  1.30s/it]\n"
     ]
    }
   ],
   "source": [
    "for col_name in tqdm(features):\n",
    "    data=aggregate_features(data,col_name)"
   ]
  },
  {
   "cell_type": "code",
   "execution_count": 19,
   "metadata": {},
   "outputs": [],
   "source": [
    "#NEW"
   ]
  },
  {
   "cell_type": "code",
   "execution_count": 20,
   "metadata": {},
   "outputs": [],
   "source": [
    "credit_card_clusters=['form_field6','form_field7','form_field8','form_field9','form_field10',\n",
    "                      'form_field14','form_field15','form_field11','form_field12','form_field16','form_field17'\n",
    "                     ,'form_field18','form_field19','form_field20','form_field21','form_field22','form_field23','form_field24'\n",
    "                     ,'form_field25','form_field26']"
   ]
  },
  {
   "cell_type": "code",
   "execution_count": 21,
   "metadata": {},
   "outputs": [],
   "source": [
    "from sklearn import decomposition\n",
    "from sklearn.preprocessing import StandardScaler\n",
    "sc = StandardScaler()\n",
    "X_std = sc.fit_transform(data[credit_card_clusters])\n",
    "pca = decomposition.PCA(n_components=3)\n",
    "X_std_pca = pca.fit_transform(X_std)"
   ]
  },
  {
   "cell_type": "code",
   "execution_count": 22,
   "metadata": {},
   "outputs": [],
   "source": [
    "data[\"pc1\"] = 0\n",
    "data[\"pc2\"] = 0\n",
    "data[\"pc3\"] = 0\n",
    "data[[\"pc1\",\"pc2\",\"pc3\"]] = X_std_pca"
   ]
  },
  {
   "cell_type": "code",
   "execution_count": 23,
   "metadata": {},
   "outputs": [],
   "source": [
    "from sklearn.cluster import KMeans\n",
    "kmeans = KMeans(n_clusters=3, random_state=1996).fit(data[credit_card_clusters])\n",
    "data[\"kmeans\"] = kmeans.predict(data[credit_card_clusters])"
   ]
  },
  {
   "cell_type": "code",
   "execution_count": 24,
   "metadata": {},
   "outputs": [],
   "source": [
    "train=data[data.default_status.notnull()].reset_index(drop=True)\n",
    "test=data[data.default_status.isna()].reset_index(drop=True)"
   ]
  },
  {
   "cell_type": "code",
   "execution_count": 25,
   "metadata": {},
   "outputs": [],
   "source": [
    "test=test.drop(['default_status'], axis=1)"
   ]
  },
  {
   "cell_type": "code",
   "execution_count": 26,
   "metadata": {},
   "outputs": [],
   "source": [
    "X=train.drop(['default_status'], axis=1)\n",
    "y=train.default_status"
   ]
  },
  {
   "cell_type": "code",
   "execution_count": 27,
   "metadata": {},
   "outputs": [
    {
     "data": {
      "text/plain": [
       "(24000, 63)"
      ]
     },
     "execution_count": 27,
     "metadata": {},
     "output_type": "execute_result"
    }
   ],
   "source": [
    "test.shape"
   ]
  },
  {
   "cell_type": "code",
   "execution_count": 28,
   "metadata": {},
   "outputs": [],
   "source": [
    "X_train, X_val, y_train, y_val = train_test_split(X, y, test_size=0.15, random_state=12345)"
   ]
  },
  {
   "cell_type": "code",
   "execution_count": 29,
   "metadata": {},
   "outputs": [],
   "source": [
    "categorical_features_indices = np.where(X.dtypes != np.float)[0]"
   ]
  },
  {
   "cell_type": "code",
   "execution_count": 30,
   "metadata": {},
   "outputs": [
    {
     "name": "stdout",
     "output_type": "stream",
     "text": [
      "0:\ttest: 0.7885375\ttest1: 0.7968314\tbest: 0.7968314 (0)\ttotal: 294ms\tremaining: 7m 20s\n",
      "100:\ttest: 0.8366033\ttest1: 0.8450582\tbest: 0.8450582 (100)\ttotal: 11.1s\tremaining: 2m 33s\n",
      "200:\ttest: 0.8440476\ttest1: 0.8527043\tbest: 0.8527043 (200)\ttotal: 22s\tremaining: 2m 22s\n",
      "300:\ttest: 0.8492273\ttest1: 0.8573896\tbest: 0.8573896 (300)\ttotal: 32.6s\tremaining: 2m 9s\n",
      "400:\ttest: 0.8541511\ttest1: 0.8618774\tbest: 0.8618774 (400)\ttotal: 43.7s\tremaining: 1m 59s\n",
      "500:\ttest: 0.8594691\ttest1: 0.8670663\tbest: 0.8670663 (500)\ttotal: 54.5s\tremaining: 1m 48s\n",
      "600:\ttest: 0.8641303\ttest1: 0.8712234\tbest: 0.8712234 (600)\ttotal: 1m 5s\tremaining: 1m 37s\n",
      "700:\ttest: 0.8683017\ttest1: 0.8750914\tbest: 0.8750914 (700)\ttotal: 1m 16s\tremaining: 1m 27s\n",
      "800:\ttest: 0.8724765\ttest1: 0.8785045\tbest: 0.8785045 (800)\ttotal: 1m 29s\tremaining: 1m 17s\n",
      "900:\ttest: 0.8761002\ttest1: 0.8817273\tbest: 0.8817273 (900)\ttotal: 1m 40s\tremaining: 1m 6s\n",
      "1000:\ttest: 0.8794750\ttest1: 0.8846676\tbest: 0.8846676 (1000)\ttotal: 1m 51s\tremaining: 55.6s\n",
      "1100:\ttest: 0.8826755\ttest1: 0.8875136\tbest: 0.8875136 (1100)\ttotal: 2m 3s\tremaining: 44.7s\n",
      "1200:\ttest: 0.8858653\ttest1: 0.8902828\tbest: 0.8902828 (1200)\ttotal: 2m 14s\tremaining: 33.4s\n",
      "1300:\ttest: 0.8889331\ttest1: 0.8930169\tbest: 0.8930169 (1300)\ttotal: 2m 25s\tremaining: 22.3s\n",
      "1400:\ttest: 0.8919752\ttest1: 0.8955291\tbest: 0.8955291 (1400)\ttotal: 2m 36s\tremaining: 11.1s\n",
      "1499:\ttest: 0.8946616\ttest1: 0.8980123\tbest: 0.8980123 (1499)\ttotal: 2m 49s\tremaining: 0us\n",
      "\n",
      "bestTest = 0.8980123101\n",
      "bestIteration = 1499\n",
      "\n",
      "err:  0.8448040077551429\n",
      "0:\ttest: 0.7844267\ttest1: 0.7956597\tbest: 0.7956597 (0)\ttotal: 143ms\tremaining: 3m 33s\n",
      "100:\ttest: 0.8373180\ttest1: 0.8449274\tbest: 0.8449274 (100)\ttotal: 11.5s\tremaining: 2m 39s\n",
      "200:\ttest: 0.8447582\ttest1: 0.8521885\tbest: 0.8521885 (200)\ttotal: 22.7s\tremaining: 2m 26s\n",
      "300:\ttest: 0.8497282\ttest1: 0.8568794\tbest: 0.8568794 (300)\ttotal: 33.9s\tremaining: 2m 14s\n",
      "400:\ttest: 0.8542968\ttest1: 0.8614264\tbest: 0.8614264 (400)\ttotal: 45.2s\tremaining: 2m 3s\n",
      "500:\ttest: 0.8591802\ttest1: 0.8659040\tbest: 0.8659040 (500)\ttotal: 57.2s\tremaining: 1m 54s\n",
      "600:\ttest: 0.8638688\ttest1: 0.8700277\tbest: 0.8700277 (600)\ttotal: 1m 7s\tremaining: 1m 41s\n",
      "700:\ttest: 0.8681143\ttest1: 0.8739901\tbest: 0.8739909 (699)\ttotal: 1m 19s\tremaining: 1m 30s\n",
      "800:\ttest: 0.8721019\ttest1: 0.8774751\tbest: 0.8774751 (800)\ttotal: 1m 29s\tremaining: 1m 18s\n",
      "900:\ttest: 0.8759028\ttest1: 0.8808757\tbest: 0.8808757 (900)\ttotal: 1m 42s\tremaining: 1m 8s\n",
      "1000:\ttest: 0.8793559\ttest1: 0.8837549\tbest: 0.8837549 (1000)\ttotal: 1m 54s\tremaining: 56.9s\n",
      "1100:\ttest: 0.8826936\ttest1: 0.8867184\tbest: 0.8867184 (1100)\ttotal: 2m 5s\tremaining: 45.5s\n",
      "1200:\ttest: 0.8858575\ttest1: 0.8893496\tbest: 0.8893496 (1200)\ttotal: 2m 17s\tremaining: 34.1s\n",
      "1300:\ttest: 0.8888118\ttest1: 0.8916962\tbest: 0.8916962 (1300)\ttotal: 2m 28s\tremaining: 22.7s\n",
      "1400:\ttest: 0.8915997\ttest1: 0.8941349\tbest: 0.8941349 (1400)\ttotal: 2m 39s\tremaining: 11.3s\n",
      "1499:\ttest: 0.8943933\ttest1: 0.8965038\tbest: 0.8965038 (1499)\ttotal: 2m 51s\tremaining: 0us\n",
      "\n",
      "bestTest = 0.8965037771\n",
      "bestIteration = 1499\n",
      "\n",
      "err:  0.8380887136318143\n",
      "0:\ttest: 0.7831275\ttest1: 0.7964880\tbest: 0.7964880 (0)\ttotal: 115ms\tremaining: 2m 51s\n",
      "100:\ttest: 0.8365553\ttest1: 0.8457145\tbest: 0.8457145 (100)\ttotal: 11.5s\tremaining: 2m 38s\n",
      "200:\ttest: 0.8442266\ttest1: 0.8532958\tbest: 0.8532958 (200)\ttotal: 22.5s\tremaining: 2m 25s\n",
      "300:\ttest: 0.8491942\ttest1: 0.8578553\tbest: 0.8578553 (300)\ttotal: 33.6s\tremaining: 2m 13s\n",
      "400:\ttest: 0.8540949\ttest1: 0.8622818\tbest: 0.8622818 (400)\ttotal: 46.5s\tremaining: 2m 7s\n",
      "500:\ttest: 0.8592846\ttest1: 0.8670196\tbest: 0.8670196 (500)\ttotal: 57.5s\tremaining: 1m 54s\n",
      "600:\ttest: 0.8637518\ttest1: 0.8711796\tbest: 0.8711796 (600)\ttotal: 1m 8s\tremaining: 1m 42s\n",
      "700:\ttest: 0.8680046\ttest1: 0.8749693\tbest: 0.8749693 (700)\ttotal: 1m 19s\tremaining: 1m 30s\n",
      "800:\ttest: 0.8717350\ttest1: 0.8781960\tbest: 0.8781960 (800)\ttotal: 1m 30s\tremaining: 1m 19s\n",
      "900:\ttest: 0.8754086\ttest1: 0.8815733\tbest: 0.8815733 (900)\ttotal: 1m 42s\tremaining: 1m 7s\n",
      "1000:\ttest: 0.8787063\ttest1: 0.8848419\tbest: 0.8848419 (1000)\ttotal: 1m 52s\tremaining: 56.3s\n",
      "1100:\ttest: 0.8819814\ttest1: 0.8875765\tbest: 0.8875765 (1100)\ttotal: 2m 5s\tremaining: 45.4s\n",
      "1200:\ttest: 0.8851834\ttest1: 0.8904436\tbest: 0.8904440 (1198)\ttotal: 2m 16s\tremaining: 34s\n",
      "1300:\ttest: 0.8883091\ttest1: 0.8932864\tbest: 0.8932864 (1300)\ttotal: 2m 28s\tremaining: 22.6s\n",
      "1400:\ttest: 0.8912680\ttest1: 0.8956375\tbest: 0.8956375 (1400)\ttotal: 2m 38s\tremaining: 11.2s\n",
      "1499:\ttest: 0.8942069\ttest1: 0.8982273\tbest: 0.8982273 (1499)\ttotal: 2m 49s\tremaining: 0us\n",
      "\n",
      "bestTest = 0.8982273325\n",
      "bestIteration = 1499\n",
      "\n",
      "err:  0.8466950180227214\n",
      "0:\ttest: 0.7884700\ttest1: 0.7965414\tbest: 0.7965414 (0)\ttotal: 111ms\tremaining: 2m 46s\n",
      "100:\ttest: 0.8365722\ttest1: 0.8454233\tbest: 0.8454233 (100)\ttotal: 12.4s\tremaining: 2m 52s\n",
      "200:\ttest: 0.8442008\ttest1: 0.8531916\tbest: 0.8531916 (200)\ttotal: 23.7s\tremaining: 2m 33s\n",
      "300:\ttest: 0.8492473\ttest1: 0.8577493\tbest: 0.8577493 (300)\ttotal: 35s\tremaining: 2m 19s\n",
      "400:\ttest: 0.8539584\ttest1: 0.8620872\tbest: 0.8620872 (400)\ttotal: 46.3s\tremaining: 2m 6s\n",
      "500:\ttest: 0.8591300\ttest1: 0.8670853\tbest: 0.8670853 (500)\ttotal: 58.5s\tremaining: 1m 56s\n",
      "600:\ttest: 0.8635954\ttest1: 0.8710096\tbest: 0.8710096 (600)\ttotal: 1m 9s\tremaining: 1m 44s\n",
      "700:\ttest: 0.8679932\ttest1: 0.8748554\tbest: 0.8748554 (700)\ttotal: 1m 20s\tremaining: 1m 31s\n",
      "800:\ttest: 0.8718156\ttest1: 0.8784519\tbest: 0.8784519 (800)\ttotal: 1m 32s\tremaining: 1m 20s\n",
      "900:\ttest: 0.8754906\ttest1: 0.8816872\tbest: 0.8816872 (900)\ttotal: 1m 43s\tremaining: 1m 8s\n",
      "1000:\ttest: 0.8790126\ttest1: 0.8849296\tbest: 0.8849296 (1000)\ttotal: 1m 55s\tremaining: 57.4s\n",
      "1100:\ttest: 0.8824746\ttest1: 0.8881187\tbest: 0.8881187 (1100)\ttotal: 2m 6s\tremaining: 45.7s\n",
      "1200:\ttest: 0.8857045\ttest1: 0.8909558\tbest: 0.8909558 (1200)\ttotal: 2m 17s\tremaining: 34.3s\n",
      "1300:\ttest: 0.8888360\ttest1: 0.8939490\tbest: 0.8939490 (1300)\ttotal: 2m 28s\tremaining: 22.8s\n",
      "1400:\ttest: 0.8917427\ttest1: 0.8967411\tbest: 0.8967453 (1399)\ttotal: 2m 40s\tremaining: 11.3s\n",
      "1499:\ttest: 0.8945825\ttest1: 0.8993888\tbest: 0.8993888 (1499)\ttotal: 2m 52s\tremaining: 0us\n",
      "\n",
      "bestTest = 0.8993887992\n",
      "bestIteration = 1499\n",
      "\n",
      "err:  0.8469778761802214\n",
      "0:\ttest: 0.7895996\ttest1: 0.7971313\tbest: 0.7971313 (0)\ttotal: 126ms\tremaining: 3m 9s\n",
      "100:\ttest: 0.8383696\ttest1: 0.8452518\tbest: 0.8452518 (100)\ttotal: 11.4s\tremaining: 2m 37s\n",
      "200:\ttest: 0.8454198\ttest1: 0.8525517\tbest: 0.8525517 (200)\ttotal: 22.5s\tremaining: 2m 25s\n",
      "300:\ttest: 0.8504353\ttest1: 0.8570032\tbest: 0.8570032 (300)\ttotal: 34.1s\tremaining: 2m 15s\n",
      "400:\ttest: 0.8549520\ttest1: 0.8612792\tbest: 0.8612792 (400)\ttotal: 45.1s\tremaining: 2m 3s\n",
      "500:\ttest: 0.8603417\ttest1: 0.8663898\tbest: 0.8663898 (500)\ttotal: 56.5s\tremaining: 1m 52s\n",
      "600:\ttest: 0.8647540\ttest1: 0.8702065\tbest: 0.8702065 (600)\ttotal: 1m 7s\tremaining: 1m 41s\n",
      "700:\ttest: 0.8691362\ttest1: 0.8740435\tbest: 0.8740435 (700)\ttotal: 1m 19s\tremaining: 1m 30s\n",
      "800:\ttest: 0.8732710\ttest1: 0.8779710\tbest: 0.8779710 (800)\ttotal: 1m 31s\tremaining: 1m 19s\n",
      "900:\ttest: 0.8768904\ttest1: 0.8812857\tbest: 0.8812857 (900)\ttotal: 1m 42s\tremaining: 1m 7s\n",
      "1000:\ttest: 0.8804712\ttest1: 0.8844858\tbest: 0.8844858 (1000)\ttotal: 1m 53s\tremaining: 56.8s\n",
      "1100:\ttest: 0.8834877\ttest1: 0.8871941\tbest: 0.8871941 (1100)\ttotal: 2m 4s\tremaining: 45.2s\n",
      "1200:\ttest: 0.8867782\ttest1: 0.8901822\tbest: 0.8901822 (1200)\ttotal: 2m 17s\tremaining: 34.1s\n",
      "1300:\ttest: 0.8897676\ttest1: 0.8928583\tbest: 0.8928583 (1300)\ttotal: 2m 28s\tremaining: 22.6s\n",
      "1400:\ttest: 0.8925456\ttest1: 0.8953176\tbest: 0.8953176 (1400)\ttotal: 2m 39s\tremaining: 11.2s\n",
      "1499:\ttest: 0.8953326\ttest1: 0.8978588\tbest: 0.8978588 (1499)\ttotal: 2m 49s\tremaining: 0us\n",
      "\n",
      "bestTest = 0.8978587562\n",
      "bestIteration = 1499\n",
      "\n",
      "err:  0.8306322966409386\n",
      "0:\ttest: 0.7906853\ttest1: 0.7973404\tbest: 0.7973404 (0)\ttotal: 118ms\tremaining: 2m 57s\n",
      "100:\ttest: 0.8381093\ttest1: 0.8451320\tbest: 0.8451320 (100)\ttotal: 12.6s\tremaining: 2m 55s\n",
      "200:\ttest: 0.8456644\ttest1: 0.8526616\tbest: 0.8526616 (200)\ttotal: 24.4s\tremaining: 2m 37s\n",
      "300:\ttest: 0.8506978\ttest1: 0.8575314\tbest: 0.8575314 (300)\ttotal: 35.4s\tremaining: 2m 21s\n",
      "400:\ttest: 0.8553838\ttest1: 0.8618658\tbest: 0.8618658 (400)\ttotal: 46.5s\tremaining: 2m 7s\n",
      "500:\ttest: 0.8607184\ttest1: 0.8666965\tbest: 0.8666965 (500)\ttotal: 57.5s\tremaining: 1m 54s\n"
     ]
    },
    {
     "name": "stdout",
     "output_type": "stream",
     "text": [
      "600:\ttest: 0.8651944\ttest1: 0.8710836\tbest: 0.8710836 (600)\ttotal: 1m 8s\tremaining: 1m 42s\n",
      "700:\ttest: 0.8695240\ttest1: 0.8752645\tbest: 0.8752645 (700)\ttotal: 1m 20s\tremaining: 1m 31s\n",
      "800:\ttest: 0.8733210\ttest1: 0.8786782\tbest: 0.8786782 (800)\ttotal: 1m 31s\tremaining: 1m 19s\n",
      "900:\ttest: 0.8770409\ttest1: 0.8820729\tbest: 0.8820729 (900)\ttotal: 1m 42s\tremaining: 1m 8s\n",
      "1000:\ttest: 0.8803236\ttest1: 0.8850456\tbest: 0.8850456 (1000)\ttotal: 1m 53s\tremaining: 56.6s\n",
      "1100:\ttest: 0.8835879\ttest1: 0.8878428\tbest: 0.8878428 (1100)\ttotal: 2m 5s\tremaining: 45.5s\n",
      "1200:\ttest: 0.8868508\ttest1: 0.8907571\tbest: 0.8907571 (1200)\ttotal: 2m 18s\tremaining: 34.6s\n",
      "1300:\ttest: 0.8897974\ttest1: 0.8933339\tbest: 0.8933339 (1300)\ttotal: 2m 30s\tremaining: 23s\n",
      "1400:\ttest: 0.8927482\ttest1: 0.8959458\tbest: 0.8959458 (1400)\ttotal: 2m 41s\tremaining: 11.4s\n",
      "1499:\ttest: 0.8954076\ttest1: 0.8980746\tbest: 0.8980746 (1499)\ttotal: 2m 52s\tremaining: 0us\n",
      "\n",
      "bestTest = 0.8980745637\n",
      "bestIteration = 1499\n",
      "\n",
      "err:  0.8318808939983615\n",
      "0:\ttest: 0.7841004\ttest1: 0.7959891\tbest: 0.7959891 (0)\ttotal: 135ms\tremaining: 3m 22s\n",
      "100:\ttest: 0.8374295\ttest1: 0.8449867\tbest: 0.8449867 (100)\ttotal: 12.7s\tremaining: 2m 56s\n",
      "200:\ttest: 0.8448973\ttest1: 0.8525465\tbest: 0.8525465 (200)\ttotal: 23.9s\tremaining: 2m 34s\n",
      "300:\ttest: 0.8502811\ttest1: 0.8576438\tbest: 0.8576438 (300)\ttotal: 35.4s\tremaining: 2m 20s\n",
      "400:\ttest: 0.8548340\ttest1: 0.8619138\tbest: 0.8619138 (400)\ttotal: 46.8s\tremaining: 2m 8s\n",
      "500:\ttest: 0.8600513\ttest1: 0.8666190\tbest: 0.8666190 (500)\ttotal: 57.6s\tremaining: 1m 54s\n",
      "600:\ttest: 0.8649340\ttest1: 0.8708751\tbest: 0.8708751 (600)\ttotal: 1m 8s\tremaining: 1m 42s\n",
      "700:\ttest: 0.8693647\ttest1: 0.8750256\tbest: 0.8750256 (700)\ttotal: 1m 19s\tremaining: 1m 30s\n",
      "800:\ttest: 0.8735025\ttest1: 0.8788062\tbest: 0.8788062 (800)\ttotal: 1m 31s\tremaining: 1m 20s\n",
      "900:\ttest: 0.8770815\ttest1: 0.8819199\tbest: 0.8819199 (900)\ttotal: 1m 43s\tremaining: 1m 8s\n",
      "1000:\ttest: 0.8809086\ttest1: 0.8852797\tbest: 0.8852797 (1000)\ttotal: 1m 54s\tremaining: 57.2s\n",
      "1100:\ttest: 0.8840144\ttest1: 0.8881071\tbest: 0.8881071 (1100)\ttotal: 2m 6s\tremaining: 45.7s\n",
      "1200:\ttest: 0.8872739\ttest1: 0.8908933\tbest: 0.8908933 (1200)\ttotal: 2m 17s\tremaining: 34.2s\n",
      "1300:\ttest: 0.8902976\ttest1: 0.8935186\tbest: 0.8935186 (1300)\ttotal: 2m 29s\tremaining: 22.9s\n",
      "1400:\ttest: 0.8932668\ttest1: 0.8962093\tbest: 0.8962093 (1400)\ttotal: 2m 41s\tremaining: 11.4s\n",
      "1499:\ttest: 0.8961305\ttest1: 0.8987451\tbest: 0.8987451 (1499)\ttotal: 2m 52s\tremaining: 0us\n",
      "\n",
      "bestTest = 0.8987450664\n",
      "bestIteration = 1499\n",
      "\n",
      "err:  0.8390491958372753\n",
      "0:\ttest: 0.7833599\ttest1: 0.7958622\tbest: 0.7958622 (0)\ttotal: 132ms\tremaining: 3m 17s\n",
      "100:\ttest: 0.8367517\ttest1: 0.8455339\tbest: 0.8455339 (100)\ttotal: 11.6s\tremaining: 2m 41s\n",
      "200:\ttest: 0.8443527\ttest1: 0.8528238\tbest: 0.8528238 (200)\ttotal: 23.8s\tremaining: 2m 33s\n",
      "300:\ttest: 0.8492304\ttest1: 0.8572059\tbest: 0.8572059 (300)\ttotal: 34.8s\tremaining: 2m 18s\n",
      "400:\ttest: 0.8539665\ttest1: 0.8616055\tbest: 0.8616055 (400)\ttotal: 46s\tremaining: 2m 6s\n",
      "500:\ttest: 0.8592618\ttest1: 0.8667216\tbest: 0.8667216 (500)\ttotal: 58.1s\tremaining: 1m 55s\n",
      "600:\ttest: 0.8638606\ttest1: 0.8711267\tbest: 0.8711267 (600)\ttotal: 1m 9s\tremaining: 1m 43s\n",
      "700:\ttest: 0.8682759\ttest1: 0.8749837\tbest: 0.8749837 (700)\ttotal: 1m 20s\tremaining: 1m 31s\n",
      "800:\ttest: 0.8718811\ttest1: 0.8782620\tbest: 0.8782620 (800)\ttotal: 1m 31s\tremaining: 1m 19s\n",
      "900:\ttest: 0.8753074\ttest1: 0.8813140\tbest: 0.8813160 (899)\ttotal: 1m 43s\tremaining: 1m 8s\n",
      "1000:\ttest: 0.8790018\ttest1: 0.8845391\tbest: 0.8845391 (1000)\ttotal: 1m 54s\tremaining: 57s\n",
      "1100:\ttest: 0.8822085\ttest1: 0.8875956\tbest: 0.8875956 (1100)\ttotal: 2m 5s\tremaining: 45.5s\n",
      "1200:\ttest: 0.8852007\ttest1: 0.8901496\tbest: 0.8901496 (1200)\ttotal: 2m 17s\tremaining: 34.1s\n",
      "1300:\ttest: 0.8883409\ttest1: 0.8928994\tbest: 0.8928994 (1300)\ttotal: 2m 27s\tremaining: 22.6s\n",
      "1400:\ttest: 0.8913521\ttest1: 0.8954822\tbest: 0.8954850 (1399)\ttotal: 2m 40s\tremaining: 11.3s\n",
      "1499:\ttest: 0.8941563\ttest1: 0.8980965\tbest: 0.8980965 (1499)\ttotal: 2m 51s\tremaining: 0us\n",
      "\n",
      "bestTest = 0.8980964663\n",
      "bestIteration = 1499\n",
      "\n",
      "err:  0.8421861682908058\n",
      "0:\ttest: 0.7838744\ttest1: 0.7960857\tbest: 0.7960857 (0)\ttotal: 144ms\tremaining: 3m 35s\n",
      "100:\ttest: 0.8359242\ttest1: 0.8444456\tbest: 0.8444456 (100)\ttotal: 13.1s\tremaining: 3m 1s\n",
      "200:\ttest: 0.8437052\ttest1: 0.8522479\tbest: 0.8522479 (200)\ttotal: 24.5s\tremaining: 2m 38s\n",
      "300:\ttest: 0.8487128\ttest1: 0.8570247\tbest: 0.8570247 (300)\ttotal: 36.8s\tremaining: 2m 26s\n",
      "400:\ttest: 0.8536321\ttest1: 0.8613407\tbest: 0.8613407 (400)\ttotal: 48.6s\tremaining: 2m 13s\n",
      "500:\ttest: 0.8590338\ttest1: 0.8660245\tbest: 0.8660245 (500)\ttotal: 59.9s\tremaining: 1m 59s\n",
      "600:\ttest: 0.8637902\ttest1: 0.8702308\tbest: 0.8702308 (600)\ttotal: 1m 11s\tremaining: 1m 46s\n",
      "700:\ttest: 0.8679388\ttest1: 0.8738905\tbest: 0.8738905 (700)\ttotal: 1m 22s\tremaining: 1m 34s\n",
      "800:\ttest: 0.8716294\ttest1: 0.8770746\tbest: 0.8770746 (800)\ttotal: 1m 35s\tremaining: 1m 23s\n",
      "900:\ttest: 0.8751092\ttest1: 0.8801238\tbest: 0.8801238 (900)\ttotal: 1m 46s\tremaining: 1m 10s\n",
      "1000:\ttest: 0.8781721\ttest1: 0.8827443\tbest: 0.8827443 (1000)\ttotal: 1m 57s\tremaining: 58.7s\n",
      "1100:\ttest: 0.8815142\ttest1: 0.8857885\tbest: 0.8857885 (1100)\ttotal: 2m 9s\tremaining: 46.8s\n",
      "1200:\ttest: 0.8845428\ttest1: 0.8886352\tbest: 0.8886352 (1200)\ttotal: 2m 20s\tremaining: 35s\n",
      "1300:\ttest: 0.8877065\ttest1: 0.8915859\tbest: 0.8915859 (1300)\ttotal: 2m 33s\tremaining: 23.4s\n",
      "1400:\ttest: 0.8905931\ttest1: 0.8941783\tbest: 0.8941783 (1400)\ttotal: 2m 44s\tremaining: 11.6s\n",
      "1499:\ttest: 0.8935306\ttest1: 0.8969812\tbest: 0.8969812 (1499)\ttotal: 2m 56s\tremaining: 0us\n",
      "\n",
      "bestTest = 0.89698116\n",
      "bestIteration = 1499\n",
      "\n",
      "err:  0.8486438804471647\n",
      "0:\ttest: 0.7843329\ttest1: 0.7958055\tbest: 0.7958055 (0)\ttotal: 121ms\tremaining: 3m 1s\n",
      "100:\ttest: 0.8377676\ttest1: 0.8458096\tbest: 0.8458096 (100)\ttotal: 11.2s\tremaining: 2m 35s\n",
      "200:\ttest: 0.8452752\ttest1: 0.8532177\tbest: 0.8532177 (200)\ttotal: 22.8s\tremaining: 2m 27s\n",
      "300:\ttest: 0.8504540\ttest1: 0.8578866\tbest: 0.8578866 (300)\ttotal: 34.2s\tremaining: 2m 16s\n",
      "400:\ttest: 0.8552269\ttest1: 0.8618545\tbest: 0.8618545 (400)\ttotal: 46.4s\tremaining: 2m 7s\n",
      "500:\ttest: 0.8607163\ttest1: 0.8668516\tbest: 0.8668516 (500)\ttotal: 57.4s\tremaining: 1m 54s\n",
      "600:\ttest: 0.8656303\ttest1: 0.8712212\tbest: 0.8712212 (600)\ttotal: 1m 8s\tremaining: 1m 42s\n",
      "700:\ttest: 0.8699561\ttest1: 0.8752878\tbest: 0.8752878 (700)\ttotal: 1m 20s\tremaining: 1m 31s\n",
      "800:\ttest: 0.8742202\ttest1: 0.8791093\tbest: 0.8791093 (800)\ttotal: 1m 32s\tremaining: 1m 20s\n",
      "900:\ttest: 0.8781244\ttest1: 0.8825629\tbest: 0.8825629 (900)\ttotal: 1m 44s\tremaining: 1m 9s\n",
      "1000:\ttest: 0.8819018\ttest1: 0.8858286\tbest: 0.8858286 (1000)\ttotal: 1m 56s\tremaining: 58s\n",
      "1100:\ttest: 0.8852798\ttest1: 0.8889031\tbest: 0.8889031 (1100)\ttotal: 2m 7s\tremaining: 46.3s\n",
      "1200:\ttest: 0.8887259\ttest1: 0.8919539\tbest: 0.8919539 (1200)\ttotal: 2m 18s\tremaining: 34.6s\n",
      "1300:\ttest: 0.8917905\ttest1: 0.8946251\tbest: 0.8946251 (1300)\ttotal: 2m 30s\tremaining: 23s\n",
      "1400:\ttest: 0.8946297\ttest1: 0.8972083\tbest: 0.8972083 (1400)\ttotal: 2m 42s\tremaining: 11.5s\n",
      "1499:\ttest: 0.8974580\ttest1: 0.8998396\tbest: 0.8998396 (1499)\ttotal: 2m 53s\tremaining: 0us\n",
      "\n",
      "bestTest = 0.8998395692\n",
      "bestIteration = 1499\n",
      "\n",
      "err:  0.8373197839752201\n"
     ]
    }
   ],
   "source": [
    "from sklearn.model_selection import cross_val_score, train_test_split, KFold, StratifiedKFold\n",
    "from sklearn.metrics import roc_auc_score\n",
    "from sklearn.metrics import accuracy_score,confusion_matrix,roc_auc_score\n",
    "errcb=[]\n",
    "y_pred_totcb=[]\n",
    "fold=StratifiedKFold(n_splits=10, random_state=123456, shuffle=True)\n",
    "i=1\n",
    "for train_index, test_index in fold.split(X,y):\n",
    "    X_train, X_test = X.iloc[train_index], X.iloc[test_index]\n",
    "    y_train, y_test = y[train_index], y[test_index]\n",
    "    m = CatBoostClassifier(eval_metric='AUC', learning_rate=0.03,  depth=6, iterations=1500,use_best_model=True)\n",
    "    m.fit(X_train,y_train,cat_features=categorical_features_indices,eval_set=[(X_train,y_train),(X_val, y_val)],verbose=100, early_stopping_rounds=100)#,verbose=100)\n",
    "    preds=m.predict_proba(X_test)[:, 1]\n",
    "    print(\"err: \",roc_auc_score(y_test,preds))\n",
    "    errcb.append(roc_auc_score(y_test,preds))\n",
    "    p = m.predict_proba(test)[:, 1]\n",
    "    y_pred_totcb.append(p)"
   ]
  },
  {
   "cell_type": "code",
   "execution_count": 31,
   "metadata": {},
   "outputs": [
    {
     "data": {
      "text/plain": [
       "0.8406277834779665"
      ]
     },
     "execution_count": 31,
     "metadata": {},
     "output_type": "execute_result"
    }
   ],
   "source": [
    "np.mean(errcb)"
   ]
  },
  {
   "cell_type": "code",
   "execution_count": 32,
   "metadata": {},
   "outputs": [
    {
     "data": {
      "image/png": "[encoded data removed]",
      "text/plain": [
       "<Figure size 1440x720 with 1 Axes>"
      ]
     },
     "metadata": {
      "needs_background": "dark"
     },
     "output_type": "display_data"
    }
   ],
   "source": [
    "fea_imp = pd.DataFrame({'imp':m.feature_importances_, 'col': X.columns})\n",
    "fea_imp = fea_imp.sort_values(['imp', 'col'], ascending=[True, False]).iloc[-30:]\n",
    "_ = fea_imp.plot(kind='barh', x='col', y='imp', figsize=(20, 10))\n",
    "plt.savefig('catboost_feature_importance.png')"
   ]
  },
  {
   "cell_type": "code",
   "execution_count": 33,
   "metadata": {},
   "outputs": [],
   "source": [
    "d = {\"Applicant_ID\": test_id, 'default_status':np.mean(y_pred_totcb, 0)}\n",
    "test_predictions = pd.DataFrame(data=d)\n",
    "test_predictions = test_predictions[[\"Applicant_ID\", 'default_status']]"
   ]
  },
  {
   "cell_type": "code",
   "execution_count": 34,
   "metadata": {},
   "outputs": [
    {
     "data": {
      "text/html": [
       "<div>\n",
       "<style scoped>\n",
       "    .dataframe tbody tr th:only-of-type {\n",
       "        vertical-align: middle;\n",
       "    }\n",
       "\n",
       "    .dataframe tbody tr th {\n",
       "        vertical-align: top;\n",
       "    }\n",
       "\n",
       "    .dataframe thead th {\n",
       "        text-align: right;\n",
       "    }\n",
       "</style>\n",
       "<table border=\"1\" class=\"dataframe\">\n",
       "  <thead>\n",
       "    <tr style=\"text-align: right;\">\n",
       "      <th></th>\n",
       "      <th>Applicant_ID</th>\n",
       "      <th>default_status</th>\n",
       "    </tr>\n",
       "  </thead>\n",
       "  <tbody>\n",
       "    <tr>\n",
       "      <td>0</td>\n",
       "      <td>Apcnt_1000032</td>\n",
       "      <td>0.322169</td>\n",
       "    </tr>\n",
       "    <tr>\n",
       "      <td>1</td>\n",
       "      <td>Apcnt_1000048</td>\n",
       "      <td>0.346806</td>\n",
       "    </tr>\n",
       "    <tr>\n",
       "      <td>2</td>\n",
       "      <td>Apcnt_1000052</td>\n",
       "      <td>0.417816</td>\n",
       "    </tr>\n",
       "    <tr>\n",
       "      <td>3</td>\n",
       "      <td>Apcnt_1000076</td>\n",
       "      <td>0.769615</td>\n",
       "    </tr>\n",
       "    <tr>\n",
       "      <td>4</td>\n",
       "      <td>Apcnt_1000080</td>\n",
       "      <td>0.179267</td>\n",
       "    </tr>\n",
       "  </tbody>\n",
       "</table>\n",
       "</div>"
      ],
      "text/plain": [
       "    Applicant_ID  default_status\n",
       "0  Apcnt_1000032        0.322169\n",
       "1  Apcnt_1000048        0.346806\n",
       "2  Apcnt_1000052        0.417816\n",
       "3  Apcnt_1000076        0.769615\n",
       "4  Apcnt_1000080        0.179267"
      ]
     },
     "execution_count": 34,
     "metadata": {},
     "output_type": "execute_result"
    }
   ],
   "source": [
    "test_predictions.head()"
   ]
  },
  {
   "cell_type": "code",
   "execution_count": 35,
   "metadata": {},
   "outputs": [],
   "source": [
    "test_predictions.to_csv('CATBOOST-3CLUST.csv', index=False)"
   ]
  }
 ],
 "metadata": {
  "kernelspec": {
   "display_name": "Python 3",
   "language": "python",
   "name": "python3"
  },
  "language_info": {
   "codemirror_mode": {
    "name": "ipython",
    "version": 3
   },
   "file_extension": ".py",
   "mimetype": "text/x-python",
   "name": "python",
   "nbconvert_exporter": "python",
   "pygments_lexer": "ipython3",
   "version": "3.7.4"
  },
  "toc": {
   "base_numbering": 1,
   "nav_menu": {},
   "number_sections": true,
   "sideBar": true,
   "skip_h1_title": false,
   "title_cell": "Table of Contents",
   "title_sidebar": "Contents",
   "toc_cell": false,
   "toc_position": {},
   "toc_section_display": true,
   "toc_window_display": false
  }
 },
 "nbformat": 4,
 "nbformat_minor": 2
}
