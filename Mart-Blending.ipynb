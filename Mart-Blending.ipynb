{
 "cells": [
  {
   "cell_type": "code",
   "execution_count": 967,
   "metadata": {},
   "outputs": [],
   "source": [
    "#Import necessary dependencies or frameworks or libraries\n",
    "import numpy as np;import pandas as pd, os\n",
    "warnings.filterwarnings('ignore')\n",
    "from typing import List\n",
    "import perfplot"
   ]
  },
  {
   "cell_type": "code",
   "execution_count": 968,
   "metadata": {},
   "outputs": [],
   "source": [
    "data_path='/Users/DELL/Desktop/Hackhathons/Kowope/'\n",
    "MODEL_A= 'CATBOOST-1.csv'\n",
    "MODEL_B = 'LGBM-1.csv'\n",
    "MODEL_C= 'XGB-1.csv'"
   ]
  },
  {
   "cell_type": "code",
   "execution_count": 969,
   "metadata": {},
   "outputs": [],
   "source": [
    "MODEL__A = pd.read_csv(data_path + MODEL_A)\n",
    "MODEL__B = pd.read_csv(data_path + MODEL_B)\n",
    "MODEL__C = pd.read_csv(data_path + MODEL_C)"
   ]
  },
  {
   "cell_type": "code",
   "execution_count": 970,
   "metadata": {},
   "outputs": [
    {
     "data": {
      "text/plain": [
       "(24000, 2)"
      ]
     },
     "execution_count": 970,
     "metadata": {},
     "output_type": "execute_result"
    }
   ],
   "source": [
    "MODEL__A.shape"
   ]
  },
  {
   "cell_type": "code",
   "execution_count": 971,
   "metadata": {},
   "outputs": [],
   "source": [
    "#MODEL_A\n",
    "max_rows = 6000\n",
    "dataframesA = []\n",
    "while len(MODEL__A) > max_rows:\n",
    "    top = MODEL__A[:max_rows]\n",
    "    dataframesA.append(top)\n",
    "    MODEL__A = MODEL__A[max_rows:]\n",
    "else:\n",
    "    dataframesA.append(MODEL__A)"
   ]
  },
  {
   "cell_type": "code",
   "execution_count": 972,
   "metadata": {},
   "outputs": [],
   "source": [
    "#MODEL_B \n",
    "max_rows = 6000\n",
    "dataframesB = []\n",
    "while len(MODEL__B) > max_rows:\n",
    "    top = MODEL__B[:max_rows]\n",
    "    dataframesB.append(top)\n",
    "    MODEL__B = MODEL__B[max_rows:]\n",
    "else:\n",
    "    dataframesB.append(MODEL__B)"
   ]
  },
  {
   "cell_type": "code",
   "execution_count": 973,
   "metadata": {},
   "outputs": [],
   "source": [
    "#MODEL_C \n",
    "max_rows = 6000\n",
    "dataframesC = []\n",
    "while len(MODEL__C) > max_rows:\n",
    "    top = MODEL__C[:max_rows]\n",
    "    dataframesC.append(top)\n",
    "    MODEL__C = MODEL__C[max_rows:]\n",
    "else:\n",
    "    dataframesC.append(MODEL__C)"
   ]
  },
  {
   "cell_type": "code",
   "execution_count": 974,
   "metadata": {},
   "outputs": [],
   "source": [
    "for _, framea in enumerate(dataframesA):\n",
    "    framea.to_csv(str(_)+'A.csv', index=False)"
   ]
  },
  {
   "cell_type": "code",
   "execution_count": 975,
   "metadata": {},
   "outputs": [],
   "source": [
    "for _, frameb in enumerate(dataframesB):\n",
    "    frameb.to_csv(str(_)+'b.csv', index=False)"
   ]
  },
  {
   "cell_type": "code",
   "execution_count": 976,
   "metadata": {},
   "outputs": [],
   "source": [
    "for _, framec in enumerate(dataframesC):\n",
    "    framec.to_csv(str(_)+'c.csv', index=False)"
   ]
  },
  {
   "cell_type": "code",
   "execution_count": 981,
   "metadata": {},
   "outputs": [],
   "source": [
    "a1=pd.read_csv('0A.csv');b1=pd.read_csv('1A.csv');c1=pd.read_csv('2A.csv');d1=pd.read_csv('3A.csv')\n",
    "a2=pd.read_csv('0b.csv');b2=pd.read_csv('1b.csv');c2=pd.read_csv('2b.csv');d2=pd.read_csv('3b.csv')\n",
    "a3=pd.read_csv('0c.csv');b3=pd.read_csv('1c.csv');c3=pd.read_csv('2c.csv');d3=pd.read_csv('3c.csv')"
   ]
  },
  {
   "cell_type": "code",
   "execution_count": 983,
   "metadata": {},
   "outputs": [],
   "source": [
    "#Segmental blending\n",
    "a1['default_status'] =(a1['default_status'] * 0.90 + a2['default_status'] * 0.10) * 0.85 + a3['default_status']*0.15\n",
    "b1['default_status'] =(b1['default_status'] * 0.70 + b2['default_status'] * 0.30) * 0.84 + b3['default_status']*0.13\n",
    "c1['default_status'] =(c1['default_status'] * 0.60 + c2['default_status'] * 0.40) * 0.85 + c3['default_status']*0.15\n",
    "d1['default_status'] =(d1['default_status'] * 0.95 + d2['default_status'] * 0.05) * 0.88 + d3['default_status']*0.12"
   ]
  },
  {
   "cell_type": "code",
   "execution_count": 986,
   "metadata": {},
   "outputs": [],
   "source": [
    "#set union\n",
    "x=pd.concat([a1,b1,c1,d1],axis=0, ignore_index=True)"
   ]
  },
  {
   "cell_type": "code",
   "execution_count": 987,
   "metadata": {},
   "outputs": [],
   "source": [
    "file_name='iblended.csv'\n",
    "x.to_csv(data_path + file_name, index=False)"
   ]
  },
  {
   "cell_type": "code",
   "execution_count": 989,
   "metadata": {},
   "outputs": [
    {
     "data": {
      "text/html": [
       "<div>\n",
       "<style scoped>\n",
       "    .dataframe tbody tr th:only-of-type {\n",
       "        vertical-align: middle;\n",
       "    }\n",
       "\n",
       "    .dataframe tbody tr th {\n",
       "        vertical-align: top;\n",
       "    }\n",
       "\n",
       "    .dataframe thead th {\n",
       "        text-align: right;\n",
       "    }\n",
       "</style>\n",
       "<table border=\"1\" class=\"dataframe\">\n",
       "  <thead>\n",
       "    <tr style=\"text-align: right;\">\n",
       "      <th></th>\n",
       "      <th>Applicant_ID</th>\n",
       "      <th>default_status</th>\n",
       "    </tr>\n",
       "  </thead>\n",
       "  <tbody>\n",
       "    <tr>\n",
       "      <td>0</td>\n",
       "      <td>Apcnt_1000032</td>\n",
       "      <td>0.313200</td>\n",
       "    </tr>\n",
       "    <tr>\n",
       "      <td>1</td>\n",
       "      <td>Apcnt_1000048</td>\n",
       "      <td>0.344166</td>\n",
       "    </tr>\n",
       "    <tr>\n",
       "      <td>2</td>\n",
       "      <td>Apcnt_1000052</td>\n",
       "      <td>0.404498</td>\n",
       "    </tr>\n",
       "    <tr>\n",
       "      <td>3</td>\n",
       "      <td>Apcnt_1000076</td>\n",
       "      <td>0.766520</td>\n",
       "    </tr>\n",
       "    <tr>\n",
       "      <td>4</td>\n",
       "      <td>Apcnt_1000080</td>\n",
       "      <td>0.161391</td>\n",
       "    </tr>\n",
       "  </tbody>\n",
       "</table>\n",
       "</div>"
      ],
      "text/plain": [
       "    Applicant_ID  default_status\n",
       "0  Apcnt_1000032        0.313200\n",
       "1  Apcnt_1000048        0.344166\n",
       "2  Apcnt_1000052        0.404498\n",
       "3  Apcnt_1000076        0.766520\n",
       "4  Apcnt_1000080        0.161391"
      ]
     },
     "execution_count": 989,
     "metadata": {},
     "output_type": "execute_result"
    }
   ],
   "source": [
    "x.head()"
   ]
  }
 ],
 "metadata": {
  "kernelspec": {
   "display_name": "Python 3",
   "language": "python",
   "name": "python3"
  },
  "language_info": {
   "codemirror_mode": {
    "name": "ipython",
    "version": 3
   },
   "file_extension": ".py",
   "mimetype": "text/x-python",
   "name": "python",
   "nbconvert_exporter": "python",
   "pygments_lexer": "ipython3",
   "version": "3.7.4"
  },
  "toc": {
   "base_numbering": 1,
   "nav_menu": {},
   "number_sections": true,
   "sideBar": true,
   "skip_h1_title": false,
   "title_cell": "Table of Contents",
   "title_sidebar": "Contents",
   "toc_cell": false,
   "toc_position": {},
   "toc_section_display": true,
   "toc_window_display": false
  }
 },
 "nbformat": 4,
 "nbformat_minor": 2
}
